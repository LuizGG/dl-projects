{
 "cells": [
  {
   "cell_type": "markdown",
   "metadata": {},
   "source": [
    "### Read data"
   ]
  },
  {
   "cell_type": "code",
   "execution_count": 1,
   "metadata": {},
   "outputs": [],
   "source": [
    "import pandas as pd\n",
    "import os\n",
    "from fastai.text import *\n",
    "\n",
    "data_folder = os.path.join(os.getcwd(), \"data\")\n",
    "data_path = os.path.join(data_folder, \"rspct.tsv\")"
   ]
  },
  {
   "cell_type": "code",
   "execution_count": 2,
   "metadata": {},
   "outputs": [
    {
     "data": {
      "text/html": [
       "<div>\n",
       "<style scoped>\n",
       "    .dataframe tbody tr th:only-of-type {\n",
       "        vertical-align: middle;\n",
       "    }\n",
       "\n",
       "    .dataframe tbody tr th {\n",
       "        vertical-align: top;\n",
       "    }\n",
       "\n",
       "    .dataframe thead th {\n",
       "        text-align: right;\n",
       "    }\n",
       "</style>\n",
       "<table border=\"1\" class=\"dataframe\">\n",
       "  <thead>\n",
       "    <tr style=\"text-align: right;\">\n",
       "      <th></th>\n",
       "      <th>subreddit</th>\n",
       "      <th>level_1</th>\n",
       "      <th>text</th>\n",
       "    </tr>\n",
       "  </thead>\n",
       "  <tbody>\n",
       "    <tr>\n",
       "      <th>0</th>\n",
       "      <td>13ReasonsWhy</td>\n",
       "      <td>515853</td>\n",
       "      <td>Spoilers spoilers!! &lt;lb&gt;To change the Title of...</td>\n",
       "    </tr>\n",
       "    <tr>\n",
       "      <th>1</th>\n",
       "      <td>13ReasonsWhy</td>\n",
       "      <td>824903</td>\n",
       "      <td>For me, the two people who stand out to me as ...</td>\n",
       "    </tr>\n",
       "    <tr>\n",
       "      <th>2</th>\n",
       "      <td>13ReasonsWhy</td>\n",
       "      <td>469637</td>\n",
       "      <td>TV Shows, Movies, Theatre Shows, Art, even if ...</td>\n",
       "    </tr>\n",
       "    <tr>\n",
       "      <th>3</th>\n",
       "      <td>13ReasonsWhy</td>\n",
       "      <td>375064</td>\n",
       "      <td>I thought I'd offer up a programme that talks ...</td>\n",
       "    </tr>\n",
       "    <tr>\n",
       "      <th>4</th>\n",
       "      <td>13ReasonsWhy</td>\n",
       "      <td>248728</td>\n",
       "      <td>Season 2 trailer: I have a theory that the per...</td>\n",
       "    </tr>\n",
       "  </tbody>\n",
       "</table>\n",
       "</div>"
      ],
      "text/plain": [
       "      subreddit  level_1                                               text\n",
       "0  13ReasonsWhy   515853  Spoilers spoilers!! <lb>To change the Title of...\n",
       "1  13ReasonsWhy   824903  For me, the two people who stand out to me as ...\n",
       "2  13ReasonsWhy   469637  TV Shows, Movies, Theatre Shows, Art, even if ...\n",
       "3  13ReasonsWhy   375064  I thought I'd offer up a programme that talks ...\n",
       "4  13ReasonsWhy   248728  Season 2 trailer: I have a theory that the per..."
      ]
     },
     "execution_count": 2,
     "metadata": {},
     "output_type": "execute_result"
    }
   ],
   "source": [
    "df = pd.read_csv(data_path, sep = \"\\t\")\n",
    "df[\"text\"] = df[\"selftext\"].str[:512]\n",
    "\n",
    "lm_df = (df\n",
    "        .groupby(\"subreddit\")\n",
    "        .apply(lambda x: x.sample(frac=.2, random_state=1))\n",
    "        .loc[:, \"text\"]\n",
    "        .reset_index()\n",
    "        )\n",
    "\n",
    "lm_df.head(5)"
   ]
  },
  {
   "cell_type": "code",
   "execution_count": 3,
   "metadata": {},
   "outputs": [
    {
     "data": {
      "text/plain": [
       "'For me, the two people who stand out to me as characters whom I like more than in season 1 were Mr. Porter and Zach.<lb><lb>Mr. Porter went from a useless, emotionally distant person to a caring, uncompromising person willing to lose his job if it meant he protected the kids. Zach just finally chooses the right side. <lb><lb>On the flip side, my opinion of Hannah has been tarnished tremendously. <lb><lb>Thoughts? '"
      ]
     },
     "execution_count": 3,
     "metadata": {},
     "output_type": "execute_result"
    }
   ],
   "source": [
    "lm_df[\"text\"][1]"
   ]
  },
  {
   "cell_type": "code",
   "execution_count": 4,
   "metadata": {},
   "outputs": [
    {
     "data": {
      "text/plain": [
       "(202600, 3)"
      ]
     },
     "execution_count": 4,
     "metadata": {},
     "output_type": "execute_result"
    }
   ],
   "source": [
    "lm_df.shape"
   ]
  },
  {
   "cell_type": "markdown",
   "metadata": {},
   "source": [
    "### Fine tune language model"
   ]
  },
  {
   "cell_type": "code",
   "execution_count": 5,
   "metadata": {},
   "outputs": [],
   "source": [
    "bs = 64"
   ]
  },
  {
   "cell_type": "code",
   "execution_count": 6,
   "metadata": {},
   "outputs": [],
   "source": [
    "data_lm = (TextList.from_df(lm_df, cols=\"text\")\n",
    "       .split_by_rand_pct(0.1)\n",
    "       .label_for_lm()\n",
    "       .databunch(bs=bs))"
   ]
  },
  {
   "cell_type": "code",
   "execution_count": 6,
   "metadata": {},
   "outputs": [],
   "source": [
    "# data_lm.save(os.path.join(data_folder, \"data_lm.pkl\"))\n",
    "data_lm = load_data(data_folder, \"data_lm.pkl\", bs=bs)"
   ]
  },
  {
   "cell_type": "code",
   "execution_count": 8,
   "metadata": {},
   "outputs": [
    {
     "data": {
      "text/html": [
       "<table border=\"1\" class=\"dataframe\">\n",
       "  <thead>\n",
       "    <tr style=\"text-align: right;\">\n",
       "      <th>idx</th>\n",
       "      <th>text</th>\n",
       "    </tr>\n",
       "  </thead>\n",
       "  <tbody>\n",
       "    <tr>\n",
       "      <td>0</td>\n",
       "      <td>deserved to know . xxmaj thought this would be a cool subtle message for the fans . :) &lt; lb&gt;&lt;lb &gt; xxmaj what do you guys think ? xxbos xxmaj for me , the two people who stand out to me as characters whom i like more than in season 1 were xxmaj mr. xxmaj porter and xxmaj xxunk &gt; xxmaj mr . xxmaj porter went from a useless ,</td>\n",
       "    </tr>\n",
       "    <tr>\n",
       "      <td>1</td>\n",
       "      <td>xxmaj ai on my imac and its great . xxmaj however i m looking for a tablet ( with a pen ) that i can take on the go , and use while i 'm out and about and then finish my work on the imac when i 'm home . xxmaj but also looking at a tablet with a pen so i have more control . ( to clarify</td>\n",
       "    </tr>\n",
       "    <tr>\n",
       "      <td>2</td>\n",
       "      <td>soun xxbos i took my dog to the vet and he said that my dog had an ear infection which has cleared up after the antibiotics but he also said that he has allergies which was causing inflammation in his paws , dandruff near his back above the tail and what you see around his eyes . xxmaj currently he 's on allergy medication but it does nt seem to</td>\n",
       "    </tr>\n",
       "    <tr>\n",
       "      <td>3</td>\n",
       "      <td>move ? xxmaj like if those were bed bugs , they 'd b xxbos i just found a bed bug in my apartment and i quickly reported it to my landlord . xxmaj apparently our lease states that bed bug infestations are the tenant 's responsibility . ( xxmaj edit : https : / / imgur.com / xxunk &gt; xxmaj but this is a row of townhouse - like units</td>\n",
       "    </tr>\n",
       "    <tr>\n",
       "      <td>4</td>\n",
       "      <td>me if i have any allergies . i said “ well it ’s not an allergy but gluten . ” xxmaj she seemed confused so i tell her “ i have celiac disease ” . i get a blank stare . “ … so i ca n’t take anything with gluten in it ” . xxmaj the technician then laughs at me and tells me in a xxbos xxmaj observation</td>\n",
       "    </tr>\n",
       "  </tbody>\n",
       "</table>"
      ],
      "text/plain": [
       "<IPython.core.display.HTML object>"
      ]
     },
     "metadata": {},
     "output_type": "display_data"
    }
   ],
   "source": [
    "data_lm.show_batch()"
   ]
  },
  {
   "cell_type": "code",
   "execution_count": 9,
   "metadata": {},
   "outputs": [],
   "source": [
    "lm_learn = language_model_learner(data_lm, AWD_LSTM, drop_mult=0.3)"
   ]
  },
  {
   "cell_type": "code",
   "execution_count": 9,
   "metadata": {},
   "outputs": [
    {
     "data": {
      "text/html": [],
      "text/plain": [
       "<IPython.core.display.HTML object>"
      ]
     },
     "metadata": {},
     "output_type": "display_data"
    },
    {
     "name": "stdout",
     "output_type": "stream",
     "text": [
      "LR Finder is complete, type {learner_name}.recorder.plot() to see the graph.\n"
     ]
    }
   ],
   "source": [
    "lm_learn.lr_find()"
   ]
  },
  {
   "cell_type": "code",
   "execution_count": 10,
   "metadata": {},
   "outputs": [
    {
     "data": {
      "image/png": "[encoded data removed]",
      "text/plain": [
       "<Figure size 432x288 with 1 Axes>"
      ]
     },
     "metadata": {
      "needs_background": "light"
     },
     "output_type": "display_data"
    }
   ],
   "source": [
    "lm_learn.recorder.plot()"
   ]
  },
  {
   "cell_type": "code",
   "execution_count": 11,
   "metadata": {},
   "outputs": [
    {
     "data": {
      "text/html": [
       "<table border=\"1\" class=\"dataframe\">\n",
       "  <thead>\n",
       "    <tr style=\"text-align: left;\">\n",
       "      <th>epoch</th>\n",
       "      <th>train_loss</th>\n",
       "      <th>valid_loss</th>\n",
       "      <th>accuracy</th>\n",
       "      <th>time</th>\n",
       "    </tr>\n",
       "  </thead>\n",
       "  <tbody>\n",
       "    <tr>\n",
       "      <td>0</td>\n",
       "      <td>5.178874</td>\n",
       "      <td>4.967162</td>\n",
       "      <td>0.216591</td>\n",
       "      <td>33:28</td>\n",
       "    </tr>\n",
       "    <tr>\n",
       "      <td>1</td>\n",
       "      <td>4.855431</td>\n",
       "      <td>4.655824</td>\n",
       "      <td>0.240839</td>\n",
       "      <td>33:36</td>\n",
       "    </tr>\n",
       "    <tr>\n",
       "      <td>2</td>\n",
       "      <td>4.469001</td>\n",
       "      <td>4.312628</td>\n",
       "      <td>0.262793</td>\n",
       "      <td>33:37</td>\n",
       "    </tr>\n",
       "  </tbody>\n",
       "</table>"
      ],
      "text/plain": [
       "<IPython.core.display.HTML object>"
      ]
     },
     "metadata": {},
     "output_type": "display_data"
    }
   ],
   "source": [
    "lm_learn.fit_one_cycle(3, 7e-02, moms=(0.8, 0.7))"
   ]
  },
  {
   "cell_type": "code",
   "execution_count": 10,
   "metadata": {},
   "outputs": [
    {
     "data": {
      "text/plain": [
       "LanguageLearner(data=TextLMDataBunch;\n",
       "\n",
       "Train: LabelList (182340 items)\n",
       "x: LMTextList\n",
       "xxbos xxmaj spoilers spoilers ! ! < lb > xxmaj to change the xxmaj title of the subreddit from 13 xxmaj reasons xxmaj why to 12 xxmaj reasons xxmaj why when you hover your mouse over it ? < lb><lb > * xxmaj reason : xxmaj clay was not one of those reasons and xxmaj hannah does say that he should n't be on those tapes but that he just deserved to know . xxmaj thought this would be a cool subtle message for the fans . :) < lb><lb > xxmaj what do you guys think ?,xxbos xxmaj for me , the two people who stand out to me as characters whom i like more than in season 1 were xxmaj mr. xxmaj porter and xxmaj xxunk > xxmaj mr . xxmaj porter went from a useless , emotionally distant person to a caring , xxunk person willing to lose his job if it meant he protected the kids . xxmaj zach just finally chooses the right side . < lb><lb > xxmaj on the flip side , my opinion of xxmaj hannah has been tarnished tremendously . < lb><lb > xxmaj thoughts ?,xxbos xxup tv xxmaj shows , xxmaj movies , xxmaj theatre xxmaj shows , xxmaj art , even if its very commercial art ( like it must be in this world ) . xxmaj do they have a moral duty ? xxmaj and what is that duty ? xxmaj and how do they fulfill it ? xxmaj do we just stop showing bad people on xxup tv ? xxmaj do we give all of the bad characters good qualities ? < lb><lb > i believe this has a lot to do with 13 xxmaj reasons xxmaj why , the backlash that it got for showing a suicide , the decision to let xxmaj clay stop xxmaj tyler from shooting the school , etc . < lb><lb > i have a lot of problems with the message this series,xxbos i thought i 'd offer up a programme that talks about some of the issues brought up in 13 xxmaj reasons xxmaj why . < lb><lb > xxmaj maybe you 're struggling , maybe someone you know is , hopefully you are inspired to reach out to someone either to ask for help , or offer it.<lb><lb > a few years ago , xxup uk xxup tv 's channel 4 released a documentary called \" xxmaj the xxmaj stranger on the xxmaj bridge \" . xxmaj it follows a man who had been contemplating suicide when a stranger approached him and talked him out of it . xxmaj he tries to track down the stranger to thank him for,xxbos xxmaj season 2 trailer : i have a theory that the person seen riding in the back of the ambulance is xxmaj justin , and it was because xxmaj clay shot him . xxmaj in the scene with xxmaj clay and xxmaj justin and the gun , you hear the gun go off and see xxmaj justin approaching xxmaj clay and the gun . xxmaj plus , when we see xxmaj clay hiding and watching the ambulance drive off , he ’s in the same clothing , with the same marks on his face . xxmaj also , after the gunshot goes off , you see him hallucinating xxmaj hannah crying as if he just did something awful . i really do n’t wanna be\n",
       "y: LMLabelList\n",
       ",,,,\n",
       "Path: .;\n",
       "\n",
       "Valid: LabelList (20260 items)\n",
       "x: LMTextList\n",
       "xxbos i know this is a noob question but i 'll ask again since i prefer a detailed answer.<lb><lb><lb > # xxup hp xxmaj recovery < lb><lb > xxmaj how does this work ? xxmaj when you get hit or when you hit someone or after every few seconds , you recover ? xxmaj so if it 's 1500 , you get back 1500 xxup hp xxunk > xxrep 70 - < lb><lb > # xxmaj chance to drain xxup hp on hit < lb><lb > xxmaj what happens here ? xxmaj so if it 's 15 % , every time you hit someone , 15 % additional xxup hp is lost to the xxunk > xxrep 11 -,xxbos i 'm not sure if this is the right place to post this , but xxmaj twin xxmaj galaxies is hosting an arcade / xxup mame tournament in xxmaj july , the xxmaj internet xxmaj gaming xxmaj bash of the xxmaj year , where a bunch of teams battle it out to see who the best arcade players are . i do n't know how many of you are interested in playing arcade games competitively , but maybe if there 's enough interested people , you guys could form a xxmaj reddit team . < lb><lb > xxmaj or , if you just want to casually play the games and not worry about winning or anything , you could join xxmaj vi,xxbos xxmaj hey everyone,<lb><lb > summer is coming up in xxmaj phoenix , xxup az and i 'm thinking of investing in a cooling vest for unfortunate occasions where i have to be outside of my carefully air conditioned sanctuary . xxmaj does anyone have experience with them ? xxmaj can you recommend a specific brand ? i 'm looking to exercise in them , so ones that can be worn while getting sweaty would be great . xxmaj also , i 'm a lady with a tiny bit of xxunk , so any vests that do n't rub the ladies raw would be great.<lb><lb > xxmaj any other suggestions for xxunk,xxbos i started xxunk running about a year ago and just completed my first half marathon . i felt alright during and after the run , but i always feel like i could and want to give more to my runs but the strength is n't there to back it up . i do n't feel tired or spent , i just do n't feel like i have the ' extra xxunk > i was curious if anyone has any tips on adding lifting or particular training to longer distance running to improve strength overall or if the majority of it comes from having more experienc,xxbos i 'm looking at a light which has the following manufacturer xxunk > > xxmaj circuit xxmaj driver : xxup xxunk / xxup pwm xxmaj xxunk booster intelligent conversion xxunk > i * think * i know what a booster circuit is and i 've googled the difference between xxup xxunk and xxup pwm , so am i right in thinking that the frequency and wave modulation mentioned is not the light itself xxunk > & & < lb><lb > i ask because a review of the light includes a computer readout showing constant output with no apparent flicker .\n",
       "y: LMLabelList\n",
       ",,,,\n",
       "Path: .;\n",
       "\n",
       "Test: None, model=SequentialRNN(\n",
       "  (0): AWD_LSTM(\n",
       "    (encoder): Embedding(60000, 400, padding_idx=1)\n",
       "    (encoder_dp): EmbeddingDropout(\n",
       "      (emb): Embedding(60000, 400, padding_idx=1)\n",
       "    )\n",
       "    (rnns): ModuleList(\n",
       "      (0): WeightDropout(\n",
       "        (module): LSTM(400, 1152, batch_first=True)\n",
       "      )\n",
       "      (1): WeightDropout(\n",
       "        (module): LSTM(1152, 1152, batch_first=True)\n",
       "      )\n",
       "      (2): WeightDropout(\n",
       "        (module): LSTM(1152, 400, batch_first=True)\n",
       "      )\n",
       "    )\n",
       "    (input_dp): RNNDropout()\n",
       "    (hidden_dps): ModuleList(\n",
       "      (0): RNNDropout()\n",
       "      (1): RNNDropout()\n",
       "      (2): RNNDropout()\n",
       "    )\n",
       "  )\n",
       "  (1): LinearDecoder(\n",
       "    (decoder): Linear(in_features=400, out_features=60000, bias=True)\n",
       "    (output_dp): RNNDropout()\n",
       "  )\n",
       "), opt_func=functools.partial(<class 'torch.optim.adam.Adam'>, betas=(0.9, 0.99)), loss_func=FlattenedLoss of CrossEntropyLoss(), metrics=[<function accuracy at 0x7f6991cdc268>], true_wd=True, bn_wd=True, wd=0.01, train_bn=True, path=PosixPath('.'), model_dir='models', callback_fns=[functools.partial(<class 'fastai.basic_train.Recorder'>, add_time=True, silent=False)], callbacks=[RNNTrainer\n",
       "learn: ...\n",
       "alpha: 2.0\n",
       "beta: 1.0], layer_groups=[Sequential(\n",
       "  (0): WeightDropout(\n",
       "    (module): LSTM(400, 1152, batch_first=True)\n",
       "  )\n",
       "  (1): RNNDropout()\n",
       "), Sequential(\n",
       "  (0): WeightDropout(\n",
       "    (module): LSTM(1152, 1152, batch_first=True)\n",
       "  )\n",
       "  (1): RNNDropout()\n",
       "), Sequential(\n",
       "  (0): WeightDropout(\n",
       "    (module): LSTM(1152, 400, batch_first=True)\n",
       "  )\n",
       "  (1): RNNDropout()\n",
       "), Sequential(\n",
       "  (0): Embedding(60000, 400, padding_idx=1)\n",
       "  (1): EmbeddingDropout(\n",
       "    (emb): Embedding(60000, 400, padding_idx=1)\n",
       "  )\n",
       "  (2): LinearDecoder(\n",
       "    (decoder): Linear(in_features=400, out_features=60000, bias=True)\n",
       "    (output_dp): RNNDropout()\n",
       "  )\n",
       ")], add_time=True, silent=False, cb_fns_registered=False)"
      ]
     },
     "execution_count": 10,
     "metadata": {},
     "output_type": "execute_result"
    }
   ],
   "source": [
    "# lm_learn.save(\"lm_fine_tuned\")\n",
    "lm_learn.load(\"lm_fine_tuned\")"
   ]
  },
  {
   "cell_type": "code",
   "execution_count": 11,
   "metadata": {},
   "outputs": [
    {
     "data": {
      "text/html": [],
      "text/plain": [
       "<IPython.core.display.HTML object>"
      ]
     },
     "metadata": {},
     "output_type": "display_data"
    },
    {
     "name": "stdout",
     "output_type": "stream",
     "text": [
      "LR Finder is complete, type {learner_name}.recorder.plot() to see the graph.\n"
     ]
    }
   ],
   "source": [
    "lm_learn.unfreeze()\n",
    "lm_learn.lr_find()"
   ]
  },
  {
   "cell_type": "code",
   "execution_count": 12,
   "metadata": {},
   "outputs": [
    {
     "data": {
      "image/png": "[encoded data removed]",
      "text/plain": [
       "<Figure size 432x288 with 1 Axes>"
      ]
     },
     "metadata": {
      "needs_background": "light"
     },
     "output_type": "display_data"
    }
   ],
   "source": [
    "lm_learn.recorder.plot()"
   ]
  },
  {
   "cell_type": "code",
   "execution_count": 13,
   "metadata": {},
   "outputs": [
    {
     "data": {
      "text/html": [
       "<table border=\"1\" class=\"dataframe\">\n",
       "  <thead>\n",
       "    <tr style=\"text-align: left;\">\n",
       "      <th>epoch</th>\n",
       "      <th>train_loss</th>\n",
       "      <th>valid_loss</th>\n",
       "      <th>accuracy</th>\n",
       "      <th>time</th>\n",
       "    </tr>\n",
       "  </thead>\n",
       "  <tbody>\n",
       "    <tr>\n",
       "      <td>0</td>\n",
       "      <td>4.364845</td>\n",
       "      <td>4.286258</td>\n",
       "      <td>0.275972</td>\n",
       "      <td>37:55</td>\n",
       "    </tr>\n",
       "    <tr>\n",
       "      <td>1</td>\n",
       "      <td>4.257897</td>\n",
       "      <td>4.179180</td>\n",
       "      <td>0.279918</td>\n",
       "      <td>37:59</td>\n",
       "    </tr>\n",
       "    <tr>\n",
       "      <td>2</td>\n",
       "      <td>4.165173</td>\n",
       "      <td>4.083360</td>\n",
       "      <td>0.288272</td>\n",
       "      <td>38:01</td>\n",
       "    </tr>\n",
       "    <tr>\n",
       "      <td>3</td>\n",
       "      <td>4.046122</td>\n",
       "      <td>3.996440</td>\n",
       "      <td>0.295953</td>\n",
       "      <td>38:03</td>\n",
       "    </tr>\n",
       "    <tr>\n",
       "      <td>4</td>\n",
       "      <td>3.926351</td>\n",
       "      <td>3.903427</td>\n",
       "      <td>0.304501</td>\n",
       "      <td>38:06</td>\n",
       "    </tr>\n",
       "    <tr>\n",
       "      <td>5</td>\n",
       "      <td>3.786420</td>\n",
       "      <td>3.837030</td>\n",
       "      <td>0.310937</td>\n",
       "      <td>38:09</td>\n",
       "    </tr>\n",
       "    <tr>\n",
       "      <td>6</td>\n",
       "      <td>3.678897</td>\n",
       "      <td>3.825603</td>\n",
       "      <td>0.312430</td>\n",
       "      <td>38:08</td>\n",
       "    </tr>\n",
       "  </tbody>\n",
       "</table>"
      ],
      "text/plain": [
       "<IPython.core.display.HTML object>"
      ]
     },
     "metadata": {},
     "output_type": "display_data"
    }
   ],
   "source": [
    "lm_learn.fit_one_cycle(7, 1e-02, moms=(0.8, 0.9))"
   ]
  },
  {
   "cell_type": "code",
   "execution_count": 14,
   "metadata": {},
   "outputs": [
    {
     "data": {
      "image/png": "[encoded data removed]",
      "text/plain": [
       "<Figure size 432x288 with 1 Axes>"
      ]
     },
     "metadata": {
      "needs_background": "light"
     },
     "output_type": "display_data"
    }
   ],
   "source": [
    "lm_learn.recorder.plot_losses()"
   ]
  },
  {
   "cell_type": "code",
   "execution_count": 15,
   "metadata": {},
   "outputs": [],
   "source": [
    "lm_learn.save(\"lm_fine_tuned\")\n",
    "# lm_learn.load(\"lm_fine_tuned\")"
   ]
  },
  {
   "cell_type": "code",
   "execution_count": 16,
   "metadata": {},
   "outputs": [],
   "source": [
    "lm_learn.save_encoder(\"lm_encoders\")"
   ]
  },
  {
   "cell_type": "markdown",
   "metadata": {},
   "source": [
    "### Fit classifier"
   ]
  },
  {
   "cell_type": "code",
   "execution_count": 5,
   "metadata": {},
   "outputs": [],
   "source": [
    "bs = 64\n",
    "nrows = df.shape[0]\n",
    "init_range = int(nrows*0.8)"
   ]
  },
  {
   "cell_type": "code",
   "execution_count": 6,
   "metadata": {},
   "outputs": [],
   "source": [
    "valid_idx = list(range(init_range, nrows))\n",
    "train_idx = (df\n",
    "        .loc[:init_range]\n",
    "        .groupby(\"subreddit\")\n",
    "        .apply(lambda x: x.sample(frac=.5, random_state=1))\n",
    "        .loc[:, \"text\"]\n",
    "        .reset_index()\n",
    "        .loc[:, \"level_1\"].tolist()\n",
    "        )"
   ]
  },
  {
   "cell_type": "code",
   "execution_count": 7,
   "metadata": {},
   "outputs": [
    {
     "data": {
      "text/plain": [
       "202600"
      ]
     },
     "execution_count": 7,
     "metadata": {},
     "output_type": "execute_result"
    }
   ],
   "source": [
    "len(valid_idx)"
   ]
  },
  {
   "cell_type": "code",
   "execution_count": 8,
   "metadata": {},
   "outputs": [
    {
     "data": {
      "text/plain": [
       "405200"
      ]
     },
     "execution_count": 8,
     "metadata": {},
     "output_type": "execute_result"
    }
   ],
   "source": [
    "len(train_idx)"
   ]
  },
  {
   "cell_type": "code",
   "execution_count": 21,
   "metadata": {},
   "outputs": [],
   "source": [
    "data_class = (TextList.from_df(df, cols=\"text\", vocab=data_lm.vocab)\n",
    "             .split_by_idxs(train_idx, valid_idx)\n",
    "             .label_from_df(\"subreddit\")\n",
    "             .databunch(bs=bs)\n",
    "             )"
   ]
  },
  {
   "cell_type": "code",
   "execution_count": 9,
   "metadata": {},
   "outputs": [],
   "source": [
    "# data_class.save(os.path.join(data_folder, \"data_class.pkl\"))\n",
    "data_class = load_data(data_folder, \"data_class.pkl\", bs=bs)"
   ]
  },
  {
   "cell_type": "code",
   "execution_count": 10,
   "metadata": {},
   "outputs": [
    {
     "data": {
      "text/html": [
       "<table border=\"1\" class=\"dataframe\">\n",
       "  <thead>\n",
       "    <tr style=\"text-align: right;\">\n",
       "      <th>text</th>\n",
       "      <th>target</th>\n",
       "    </tr>\n",
       "  </thead>\n",
       "  <tbody>\n",
       "    <tr>\n",
       "      <td>xxbos 👉 xxup every 🅾 xxup xxunk 👨 ‍ 👩 ‍ 👧 ‍ 👦 xxup has 🅰 ️ 👏 xxup xxunk 👏 xxup in xxup their 👈 h 🅾 xxup xxunk 🏡 . xxup first 👆 xxup they xxunk xxup take 👈 xxup the 🍌 🍆 xxup xxunk 🍆 🅱 ️ 🅾 xxup xxunk xxunk 🅰 xxup xxunk 🌚 xxup they 💦 xxup sm 🅾 ️ 🅾 xxup xxunk 💦</td>\n",
       "      <td>emojipasta</td>\n",
       "    </tr>\n",
       "    <tr>\n",
       "      <td>xxbos 🎃 xxup trick xxup or xxup treat 🎃 &lt; lb &gt; xxunk xxunk xxup smell xxup my xxup feet xxunk    &lt; lb &gt; xxunk 👻 xxup gimme xxup some xxunk &lt; lb &gt; xxup good xxup dick xxup to xxup eat 👻 &lt; lb&gt;&lt;lb &gt; xxup surprise xxup bitch xxup you've xxup now xxup been xxup cursed xxup with xxup the   👹 🙅 xxup xxunk 🙅 👹</td>\n",
       "      <td>emojipasta</td>\n",
       "    </tr>\n",
       "    <tr>\n",
       "      <td>xxbos * * xxmaj method xxmaj xxunk &gt; xxmaj spread | xxmaj pick | xxmaj win / xxmaj loss &lt; lb&gt;---|---| xxrep 4 - &lt; lb &gt; xxup lar @ xxup xxunk + 3.5 | xxup lar | w &lt; lb &gt; xxup den @ xxup phi xxunk | xxup phi | w &lt; lb &gt; xxup cin @ xxup jax xxunk | xxup cin | l &lt; lb &gt;</td>\n",
       "      <td>DanLeBatardShow</td>\n",
       "    </tr>\n",
       "    <tr>\n",
       "      <td>xxbos &lt; xxunk xxmaj unbound xxmaj army ( xxmaj faction ) ( xxmaj imperium - xxup fw xxmaj adeptus xxmaj xxunk ) [ 4 xxup pl , xxunk ] + + * &lt; lb&gt;&lt;lb&gt;**+ xxup hq + * * &lt; xxunk xxmaj shen [ 4 xxup pl , xxunk xxmaj patrol xxmaj detachment ( xxmaj imperium - xxmaj space xxmaj marines ) [ 40 xxup pl , xxunk ] +</td>\n",
       "      <td>WarhammerCompetitive</td>\n",
       "    </tr>\n",
       "    <tr>\n",
       "      <td>xxbos xxunk xxunk &gt; i have been studying xxmaj korean for about a year now but i still do not grasp the pattern of ' xxunk / xxunk xxunk / xxunk ' and their xxunk &gt; xxmaj correct me if i am wrong at the following part : &gt; &lt; lb&gt;&lt;lb &gt; xxmaj usage of:&lt;lb&gt;&lt;lb &gt; * ' xxunk / xxunk xxunk ' - xxmaj person a does x for</td>\n",
       "      <td>Korean</td>\n",
       "    </tr>\n",
       "  </tbody>\n",
       "</table>"
      ],
      "text/plain": [
       "<IPython.core.display.HTML object>"
      ]
     },
     "metadata": {},
     "output_type": "display_data"
    }
   ],
   "source": [
    "data_class.show_batch()"
   ]
  },
  {
   "cell_type": "code",
   "execution_count": 11,
   "metadata": {},
   "outputs": [],
   "source": [
    "acc = partial(accuracy)\n",
    "acc_3 = partial(top_k_accuracy, k=3)\n",
    "acc_5 = partial(top_k_accuracy, k=5)"
   ]
  },
  {
   "cell_type": "code",
   "execution_count": 12,
   "metadata": {},
   "outputs": [],
   "source": [
    "learn = text_classifier_learner(data_class, AWD_LSTM, drop_mult=0.25, metrics=[acc, acc_3, acc_5])"
   ]
  },
  {
   "cell_type": "code",
   "execution_count": 10,
   "metadata": {},
   "outputs": [
    {
     "data": {
      "text/plain": [
       "RNNLearner(data=TextClasDataBunch;\n",
       "\n",
       "Train: LabelList (405200 items)\n",
       "x: TextList\n",
       "xxbos xxmaj so the end of the show sets up some obvious story arcs for season two but i have a few theories of my own , some based off of what i have seen online and some of my own . < lb><lb > xxmaj xxunk i think he is going to survive but in a heavily problematic way ( xxunk state , speech problems , paralysis , something like that ) in order to continue addressing suicide but from a new perspective since with xxmaj hannah we saw the affects of a successful suicide . xxmaj from the beginning i thought he seemed like a candidate for suicide,xxbos for me it was justin foley as he was such a complex character . i loved how i was able to xxunk with him as the series progressed and showed more of his inner nature < lb > the actor did a great job xxunk emotion into his lines and facial expressions < lb > he was able to convey these feelings through his eyes and i really felt that in the scenes with jess and clay / clay ’s family < lb >,xxbos xxmaj think about it . xxmaj the other characters have a well - developed personality and background . xxmaj justin puts up an act every day at school pretending to be a popular jock , but struggles with abuse at home . xxmaj courtney is high - strung and selfish , but only because she is under a lot of pressure from her parents . xxmaj jessica is stubborn , aggressive , and afraid to show vulnerability . xxmaj but what do we know about xxmaj clay ? xxmaj that he 's awkward and was nice to xxmaj hannah ? xxmaj it feels like the writers only used him as a vessel for listening to xxmaj han,xxbos xxmaj so i finished watching all 13 episodes and i really love this series . i am kind of curious what is going to happen to all people who were involved . i am happy for xxmaj clay and xxmaj tony that they can start a new chapter in their lives and maybe even come to peace with the story of xxmaj hannah . xxmaj the fact that xxmaj hannah 's parents could listen to her fair well message gave me a little bit of relief and joy , now they know her reasons for committing suicide and are n't left with nothing at the end . i hope xxmaj bryce gets what he xxunk,xxbos xxmaj season 2 trailer : i have a theory that the person seen riding in the back of the ambulance is xxmaj justin , and it was because xxmaj clay shot him . xxmaj in the scene with xxmaj clay and xxmaj justin and the gun , you hear the gun go off and see xxmaj justin approaching xxmaj clay and the gun . xxmaj plus , when we see xxmaj clay hiding and watching the ambulance drive off , he ’s in the same clothing , with the same marks on his face . xxmaj also , after the gunshot goes off , you see him hallucinating xxmaj hannah crying as if he just did something awful . i really do n’t wanna be\n",
       "y: CategoryList\n",
       "13ReasonsWhy,13ReasonsWhy,13ReasonsWhy,13ReasonsWhy,13ReasonsWhy\n",
       "Path: .;\n",
       "\n",
       "Valid: LabelList (202600 items)\n",
       "x: TextList\n",
       "xxbos xxmaj typical class size is 40 . i do teach a couple that are 100 + . xxmaj the large class size is just a dog compared to smaller class size . xxmaj its a stadium room and i can just see the students zoned out . xxmaj nobody will talk because of how large it is . xxmaj it 's a 200 level xxmaj gen xxmaj ed class so they have to be there regardless if they like it or not . i ca n't really recall what my xxmaj profs did back in college where 150 + was the norm .,xxbos i read * * xxmaj chapter 48 : xxmaj someone * * again to prepare for episode 36 of xxmaj season 2 . i have three questions though . xxmaj could you please help me understand ? < lb><lb > * xxmaj why did xxmaj reiner not remove the armor on the back of his legs to be able to run faster and possibly outrun the xxmaj survey xxmaj corps ? < lb > * xxmaj when xxmaj ymir was telling xxmaj historia that the reason she snatched her was to hand her over to xxmaj marley in order for her crimes to be xxunk and to save her own life , was she just lying ? < lb > * xxmaj xxunk said \" xxmaj please ... xxmaj someone ... i,xxbos i have no idea what to do . i 've always been clean shaven and i just recently started letting my beard grow xxunk less than a week ) . i 'm 21 years old and i 've always had long hair as in the album , i want to get a new hair style and grow out a beard , but i 've absolutely no clue what exactly it is i should do . xxmaj any tips and any help would be great . xxmaj thank you.<lb><lb > http : / / imgur.com / a / xxunk,xxbos xxmaj out of xxunk the best idea ) , i had a friend whack my xxmaj vader 's xxmaj vault heavy graded blade with my xxmaj kali xxmaj xxunk stick to see how it stands up . xxmaj the blade took the impact well , but the tip flew off . xxmaj what kind of glue is best for reattaching it ? < lb><lb > i also xxunk with a friend using a standard blade ( xxmaj vader 's xxmaj vault ) and ended up popping off his blade 's tip . xxmaj gave him a replacement blade and somehow i ended up breaking a part of the blade off . i guess standard blades are n't the best if i go too hard wit,xxbos xxmaj sorry about the convoluted title , i hope it 's clear what i mean . < lb><lb > i made this post because i saw [ this xxmaj xxunk xxmaj xxunk 's xxmaj xxunk xxunk : / / imgur.com / a / xxmaj xxunk ) and i was struck how unusual but flattering her makeup was . xxmaj she has practically no brows or lashes , only a slight touch of blush and natural pink lips . xxmaj that goes against all current trends ( fake lashes , tan , contour , strong dark brows ) , she even does n't have much of a highlight on , even though it would go with this sort of blank , xxunk loo\n",
       "y: CategoryList\n",
       "Professors,ShingekiNoKyojin,beards,lightsabers,muacjdiscussion\n",
       "Path: .;\n",
       "\n",
       "Test: None, model=SequentialRNN(\n",
       "  (0): MultiBatchEncoder(\n",
       "    (module): AWD_LSTM(\n",
       "      (encoder): Embedding(60000, 400, padding_idx=1)\n",
       "      (encoder_dp): EmbeddingDropout(\n",
       "        (emb): Embedding(60000, 400, padding_idx=1)\n",
       "      )\n",
       "      (rnns): ModuleList(\n",
       "        (0): WeightDropout(\n",
       "          (module): LSTM(400, 1152, batch_first=True)\n",
       "        )\n",
       "        (1): WeightDropout(\n",
       "          (module): LSTM(1152, 1152, batch_first=True)\n",
       "        )\n",
       "        (2): WeightDropout(\n",
       "          (module): LSTM(1152, 400, batch_first=True)\n",
       "        )\n",
       "      )\n",
       "      (input_dp): RNNDropout()\n",
       "      (hidden_dps): ModuleList(\n",
       "        (0): RNNDropout()\n",
       "        (1): RNNDropout()\n",
       "        (2): RNNDropout()\n",
       "      )\n",
       "    )\n",
       "  )\n",
       "  (1): PoolingLinearClassifier(\n",
       "    (layers): Sequential(\n",
       "      (0): BatchNorm1d(1200, eps=1e-05, momentum=0.1, affine=True, track_running_stats=True)\n",
       "      (1): Dropout(p=0.1)\n",
       "      (2): Linear(in_features=1200, out_features=50, bias=True)\n",
       "      (3): ReLU(inplace)\n",
       "      (4): BatchNorm1d(50, eps=1e-05, momentum=0.1, affine=True, track_running_stats=True)\n",
       "      (5): Dropout(p=0.1)\n",
       "      (6): Linear(in_features=50, out_features=1013, bias=True)\n",
       "    )\n",
       "  )\n",
       "), opt_func=functools.partial(<class 'torch.optim.adam.Adam'>, betas=(0.9, 0.99)), loss_func=FlattenedLoss of CrossEntropyLoss(), metrics=[functools.partial(<function accuracy at 0x7f4686f11268>), functools.partial(<function top_k_accuracy at 0x7f4686f11620>, k=3), functools.partial(<function top_k_accuracy at 0x7f4686f11620>, k=5)], true_wd=True, bn_wd=True, wd=0.01, train_bn=True, path=PosixPath('/home/jupyter/dl-projects/reddit-self-post/data'), model_dir='models', callback_fns=[functools.partial(<class 'fastai.basic_train.Recorder'>, add_time=True, silent=False)], callbacks=[RNNTrainer\n",
       "learn: ...\n",
       "alpha: 2.0\n",
       "beta: 1.0], layer_groups=[Sequential(\n",
       "  (0): Embedding(60000, 400, padding_idx=1)\n",
       "  (1): EmbeddingDropout(\n",
       "    (emb): Embedding(60000, 400, padding_idx=1)\n",
       "  )\n",
       "), Sequential(\n",
       "  (0): WeightDropout(\n",
       "    (module): LSTM(400, 1152, batch_first=True)\n",
       "  )\n",
       "  (1): RNNDropout()\n",
       "), Sequential(\n",
       "  (0): WeightDropout(\n",
       "    (module): LSTM(1152, 1152, batch_first=True)\n",
       "  )\n",
       "  (1): RNNDropout()\n",
       "), Sequential(\n",
       "  (0): WeightDropout(\n",
       "    (module): LSTM(1152, 400, batch_first=True)\n",
       "  )\n",
       "  (1): RNNDropout()\n",
       "), Sequential(\n",
       "  (0): PoolingLinearClassifier(\n",
       "    (layers): Sequential(\n",
       "      (0): BatchNorm1d(1200, eps=1e-05, momentum=0.1, affine=True, track_running_stats=True)\n",
       "      (1): Dropout(p=0.1)\n",
       "      (2): Linear(in_features=1200, out_features=50, bias=True)\n",
       "      (3): ReLU(inplace)\n",
       "      (4): BatchNorm1d(50, eps=1e-05, momentum=0.1, affine=True, track_running_stats=True)\n",
       "      (5): Dropout(p=0.1)\n",
       "      (6): Linear(in_features=50, out_features=1013, bias=True)\n",
       "    )\n",
       "  )\n",
       ")], add_time=True, silent=False, cb_fns_registered=False)"
      ]
     },
     "execution_count": 10,
     "metadata": {},
     "output_type": "execute_result"
    }
   ],
   "source": [
    "learn.load_encoder(os.path.join(os.getcwd(), \"models\", \"lm_encoders\"))"
   ]
  },
  {
   "cell_type": "code",
   "execution_count": 11,
   "metadata": {},
   "outputs": [
    {
     "data": {
      "text/html": [],
      "text/plain": [
       "<IPython.core.display.HTML object>"
      ]
     },
     "metadata": {},
     "output_type": "display_data"
    },
    {
     "name": "stdout",
     "output_type": "stream",
     "text": [
      "LR Finder is complete, type {learner_name}.recorder.plot() to see the graph.\n"
     ]
    }
   ],
   "source": [
    "learn.lr_find()"
   ]
  },
  {
   "cell_type": "code",
   "execution_count": 12,
   "metadata": {},
   "outputs": [
    {
     "data": {
      "image/png": "[encoded data removed]",
      "text/plain": [
       "<Figure size 432x288 with 1 Axes>"
      ]
     },
     "metadata": {
      "needs_background": "light"
     },
     "output_type": "display_data"
    }
   ],
   "source": [
    "learn.recorder.plot()"
   ]
  },
  {
   "cell_type": "code",
   "execution_count": 13,
   "metadata": {},
   "outputs": [
    {
     "data": {
      "text/html": [
       "<table border=\"1\" class=\"dataframe\">\n",
       "  <thead>\n",
       "    <tr style=\"text-align: left;\">\n",
       "      <th>epoch</th>\n",
       "      <th>train_loss</th>\n",
       "      <th>valid_loss</th>\n",
       "      <th>accuracy</th>\n",
       "      <th>top_k_accuracy</th>\n",
       "      <th>top_k_accuracy</th>\n",
       "      <th>time</th>\n",
       "    </tr>\n",
       "  </thead>\n",
       "  <tbody>\n",
       "    <tr>\n",
       "      <td>0</td>\n",
       "      <td>4.796091</td>\n",
       "      <td>4.690875</td>\n",
       "      <td>0.100424</td>\n",
       "      <td>0.205390</td>\n",
       "      <td>0.276372</td>\n",
       "      <td>18:11</td>\n",
       "    </tr>\n",
       "    <tr>\n",
       "      <td>1</td>\n",
       "      <td>4.106991</td>\n",
       "      <td>3.859857</td>\n",
       "      <td>0.184753</td>\n",
       "      <td>0.337957</td>\n",
       "      <td>0.428430</td>\n",
       "      <td>18:36</td>\n",
       "    </tr>\n",
       "    <tr>\n",
       "      <td>2</td>\n",
       "      <td>3.376474</td>\n",
       "      <td>3.004184</td>\n",
       "      <td>0.342502</td>\n",
       "      <td>0.524936</td>\n",
       "      <td>0.609112</td>\n",
       "      <td>18:29</td>\n",
       "    </tr>\n",
       "  </tbody>\n",
       "</table>"
      ],
      "text/plain": [
       "<IPython.core.display.HTML object>"
      ]
     },
     "metadata": {},
     "output_type": "display_data"
    }
   ],
   "source": [
    "learn.fit_one_cycle(3, 1e-01, moms=(0.8, 0.7))"
   ]
  },
  {
   "cell_type": "code",
   "execution_count": 13,
   "metadata": {},
   "outputs": [
    {
     "data": {
      "text/plain": [
       "RNNLearner(data=TextClasDataBunch;\n",
       "\n",
       "Train: LabelList (405200 items)\n",
       "x: TextList\n",
       "xxbos xxmaj so the end of the show sets up some obvious story arcs for season two but i have a few theories of my own , some based off of what i have seen online and some of my own . < lb><lb > xxmaj xxunk i think he is going to survive but in a heavily problematic way ( xxunk state , speech problems , paralysis , something like that ) in order to continue addressing suicide but from a new perspective since with xxmaj hannah we saw the affects of a successful suicide . xxmaj from the beginning i thought he seemed like a candidate for suicide,xxbos for me it was justin foley as he was such a complex character . i loved how i was able to xxunk with him as the series progressed and showed more of his inner nature < lb > the actor did a great job xxunk emotion into his lines and facial expressions < lb > he was able to convey these feelings through his eyes and i really felt that in the scenes with jess and clay / clay ’s family < lb >,xxbos xxmaj think about it . xxmaj the other characters have a well - developed personality and background . xxmaj justin puts up an act every day at school pretending to be a popular jock , but struggles with abuse at home . xxmaj courtney is high - strung and selfish , but only because she is under a lot of pressure from her parents . xxmaj jessica is stubborn , aggressive , and afraid to show vulnerability . xxmaj but what do we know about xxmaj clay ? xxmaj that he 's awkward and was nice to xxmaj hannah ? xxmaj it feels like the writers only used him as a vessel for listening to xxmaj han,xxbos xxmaj so i finished watching all 13 episodes and i really love this series . i am kind of curious what is going to happen to all people who were involved . i am happy for xxmaj clay and xxmaj tony that they can start a new chapter in their lives and maybe even come to peace with the story of xxmaj hannah . xxmaj the fact that xxmaj hannah 's parents could listen to her fair well message gave me a little bit of relief and joy , now they know her reasons for committing suicide and are n't left with nothing at the end . i hope xxmaj bryce gets what he xxunk,xxbos xxmaj season 2 trailer : i have a theory that the person seen riding in the back of the ambulance is xxmaj justin , and it was because xxmaj clay shot him . xxmaj in the scene with xxmaj clay and xxmaj justin and the gun , you hear the gun go off and see xxmaj justin approaching xxmaj clay and the gun . xxmaj plus , when we see xxmaj clay hiding and watching the ambulance drive off , he ’s in the same clothing , with the same marks on his face . xxmaj also , after the gunshot goes off , you see him hallucinating xxmaj hannah crying as if he just did something awful . i really do n’t wanna be\n",
       "y: CategoryList\n",
       "13ReasonsWhy,13ReasonsWhy,13ReasonsWhy,13ReasonsWhy,13ReasonsWhy\n",
       "Path: .;\n",
       "\n",
       "Valid: LabelList (202600 items)\n",
       "x: TextList\n",
       "xxbos xxmaj typical class size is 40 . i do teach a couple that are 100 + . xxmaj the large class size is just a dog compared to smaller class size . xxmaj its a stadium room and i can just see the students zoned out . xxmaj nobody will talk because of how large it is . xxmaj it 's a 200 level xxmaj gen xxmaj ed class so they have to be there regardless if they like it or not . i ca n't really recall what my xxmaj profs did back in college where 150 + was the norm .,xxbos i read * * xxmaj chapter 48 : xxmaj someone * * again to prepare for episode 36 of xxmaj season 2 . i have three questions though . xxmaj could you please help me understand ? < lb><lb > * xxmaj why did xxmaj reiner not remove the armor on the back of his legs to be able to run faster and possibly outrun the xxmaj survey xxmaj corps ? < lb > * xxmaj when xxmaj ymir was telling xxmaj historia that the reason she snatched her was to hand her over to xxmaj marley in order for her crimes to be xxunk and to save her own life , was she just lying ? < lb > * xxmaj xxunk said \" xxmaj please ... xxmaj someone ... i,xxbos i have no idea what to do . i 've always been clean shaven and i just recently started letting my beard grow xxunk less than a week ) . i 'm 21 years old and i 've always had long hair as in the album , i want to get a new hair style and grow out a beard , but i 've absolutely no clue what exactly it is i should do . xxmaj any tips and any help would be great . xxmaj thank you.<lb><lb > http : / / imgur.com / a / xxunk,xxbos xxmaj out of xxunk the best idea ) , i had a friend whack my xxmaj vader 's xxmaj vault heavy graded blade with my xxmaj kali xxmaj xxunk stick to see how it stands up . xxmaj the blade took the impact well , but the tip flew off . xxmaj what kind of glue is best for reattaching it ? < lb><lb > i also xxunk with a friend using a standard blade ( xxmaj vader 's xxmaj vault ) and ended up popping off his blade 's tip . xxmaj gave him a replacement blade and somehow i ended up breaking a part of the blade off . i guess standard blades are n't the best if i go too hard wit,xxbos xxmaj sorry about the convoluted title , i hope it 's clear what i mean . < lb><lb > i made this post because i saw [ this xxmaj xxunk xxmaj xxunk 's xxmaj xxunk xxunk : / / imgur.com / a / xxmaj xxunk ) and i was struck how unusual but flattering her makeup was . xxmaj she has practically no brows or lashes , only a slight touch of blush and natural pink lips . xxmaj that goes against all current trends ( fake lashes , tan , contour , strong dark brows ) , she even does n't have much of a highlight on , even though it would go with this sort of blank , xxunk loo\n",
       "y: CategoryList\n",
       "Professors,ShingekiNoKyojin,beards,lightsabers,muacjdiscussion\n",
       "Path: .;\n",
       "\n",
       "Test: None, model=SequentialRNN(\n",
       "  (0): MultiBatchEncoder(\n",
       "    (module): AWD_LSTM(\n",
       "      (encoder): Embedding(60000, 400, padding_idx=1)\n",
       "      (encoder_dp): EmbeddingDropout(\n",
       "        (emb): Embedding(60000, 400, padding_idx=1)\n",
       "      )\n",
       "      (rnns): ModuleList(\n",
       "        (0): WeightDropout(\n",
       "          (module): LSTM(400, 1152, batch_first=True)\n",
       "        )\n",
       "        (1): WeightDropout(\n",
       "          (module): LSTM(1152, 1152, batch_first=True)\n",
       "        )\n",
       "        (2): WeightDropout(\n",
       "          (module): LSTM(1152, 400, batch_first=True)\n",
       "        )\n",
       "      )\n",
       "      (input_dp): RNNDropout()\n",
       "      (hidden_dps): ModuleList(\n",
       "        (0): RNNDropout()\n",
       "        (1): RNNDropout()\n",
       "        (2): RNNDropout()\n",
       "      )\n",
       "    )\n",
       "  )\n",
       "  (1): PoolingLinearClassifier(\n",
       "    (layers): Sequential(\n",
       "      (0): BatchNorm1d(1200, eps=1e-05, momentum=0.1, affine=True, track_running_stats=True)\n",
       "      (1): Dropout(p=0.1)\n",
       "      (2): Linear(in_features=1200, out_features=50, bias=True)\n",
       "      (3): ReLU(inplace)\n",
       "      (4): BatchNorm1d(50, eps=1e-05, momentum=0.1, affine=True, track_running_stats=True)\n",
       "      (5): Dropout(p=0.1)\n",
       "      (6): Linear(in_features=50, out_features=1013, bias=True)\n",
       "    )\n",
       "  )\n",
       "), opt_func=functools.partial(<class 'torch.optim.adam.Adam'>, betas=(0.9, 0.99)), loss_func=FlattenedLoss of CrossEntropyLoss(), metrics=[functools.partial(<function accuracy at 0x7f0e5569f268>), functools.partial(<function top_k_accuracy at 0x7f0e5569f620>, k=3), functools.partial(<function top_k_accuracy at 0x7f0e5569f620>, k=5)], true_wd=True, bn_wd=True, wd=0.01, train_bn=True, path=PosixPath('/home/jupyter/dl-projects/reddit-self-post/data'), model_dir='models', callback_fns=[functools.partial(<class 'fastai.basic_train.Recorder'>, add_time=True, silent=False)], callbacks=[RNNTrainer\n",
       "learn: ...\n",
       "alpha: 2.0\n",
       "beta: 1.0], layer_groups=[Sequential(\n",
       "  (0): Embedding(60000, 400, padding_idx=1)\n",
       "  (1): EmbeddingDropout(\n",
       "    (emb): Embedding(60000, 400, padding_idx=1)\n",
       "  )\n",
       "), Sequential(\n",
       "  (0): WeightDropout(\n",
       "    (module): LSTM(400, 1152, batch_first=True)\n",
       "  )\n",
       "  (1): RNNDropout()\n",
       "), Sequential(\n",
       "  (0): WeightDropout(\n",
       "    (module): LSTM(1152, 1152, batch_first=True)\n",
       "  )\n",
       "  (1): RNNDropout()\n",
       "), Sequential(\n",
       "  (0): WeightDropout(\n",
       "    (module): LSTM(1152, 400, batch_first=True)\n",
       "  )\n",
       "  (1): RNNDropout()\n",
       "), Sequential(\n",
       "  (0): PoolingLinearClassifier(\n",
       "    (layers): Sequential(\n",
       "      (0): BatchNorm1d(1200, eps=1e-05, momentum=0.1, affine=True, track_running_stats=True)\n",
       "      (1): Dropout(p=0.1)\n",
       "      (2): Linear(in_features=1200, out_features=50, bias=True)\n",
       "      (3): ReLU(inplace)\n",
       "      (4): BatchNorm1d(50, eps=1e-05, momentum=0.1, affine=True, track_running_stats=True)\n",
       "      (5): Dropout(p=0.1)\n",
       "      (6): Linear(in_features=50, out_features=1013, bias=True)\n",
       "    )\n",
       "  )\n",
       ")], add_time=True, silent=False, cb_fns_registered=False)"
      ]
     },
     "execution_count": 13,
     "metadata": {},
     "output_type": "execute_result"
    }
   ],
   "source": [
    "# learn.save(\"classifier\")\n",
    "learn.load(\"classifier\")"
   ]
  },
  {
   "cell_type": "code",
   "execution_count": 14,
   "metadata": {},
   "outputs": [],
   "source": [
    "# learn.freeze_to(-3)\n",
    "learn.unfreeze()"
   ]
  },
  {
   "cell_type": "code",
   "execution_count": 15,
   "metadata": {},
   "outputs": [
    {
     "data": {
      "text/html": [],
      "text/plain": [
       "<IPython.core.display.HTML object>"
      ]
     },
     "metadata": {},
     "output_type": "display_data"
    },
    {
     "name": "stdout",
     "output_type": "stream",
     "text": [
      "LR Finder is complete, type {learner_name}.recorder.plot() to see the graph.\n"
     ]
    }
   ],
   "source": [
    "learn.lr_find()"
   ]
  },
  {
   "cell_type": "code",
   "execution_count": 16,
   "metadata": {},
   "outputs": [
    {
     "data": {
      "image/png": "[encoded data removed]",
      "text/plain": [
       "<Figure size 432x288 with 1 Axes>"
      ]
     },
     "metadata": {
      "needs_background": "light"
     },
     "output_type": "display_data"
    }
   ],
   "source": [
    "learn.recorder.plot()"
   ]
  },
  {
   "cell_type": "code",
   "execution_count": 17,
   "metadata": {},
   "outputs": [
    {
     "data": {
      "text/html": [
       "<table border=\"1\" class=\"dataframe\">\n",
       "  <thead>\n",
       "    <tr style=\"text-align: left;\">\n",
       "      <th>epoch</th>\n",
       "      <th>train_loss</th>\n",
       "      <th>valid_loss</th>\n",
       "      <th>accuracy</th>\n",
       "      <th>top_k_accuracy</th>\n",
       "      <th>top_k_accuracy</th>\n",
       "      <th>time</th>\n",
       "    </tr>\n",
       "  </thead>\n",
       "  <tbody>\n",
       "    <tr>\n",
       "      <td>0</td>\n",
       "      <td>2.521589</td>\n",
       "      <td>2.150539</td>\n",
       "      <td>0.536737</td>\n",
       "      <td>0.691767</td>\n",
       "      <td>0.751249</td>\n",
       "      <td>43:23</td>\n",
       "    </tr>\n",
       "    <tr>\n",
       "      <td>1</td>\n",
       "      <td>2.044085</td>\n",
       "      <td>1.775450</td>\n",
       "      <td>0.624191</td>\n",
       "      <td>0.754141</td>\n",
       "      <td>0.800874</td>\n",
       "      <td>42:14</td>\n",
       "    </tr>\n",
       "    <tr>\n",
       "      <td>2</td>\n",
       "      <td>1.862273</td>\n",
       "      <td>1.711112</td>\n",
       "      <td>0.636530</td>\n",
       "      <td>0.764023</td>\n",
       "      <td>0.809398</td>\n",
       "      <td>44:11</td>\n",
       "    </tr>\n",
       "  </tbody>\n",
       "</table>"
      ],
      "text/plain": [
       "<IPython.core.display.HTML object>"
      ]
     },
     "metadata": {},
     "output_type": "display_data"
    }
   ],
   "source": [
    "learn.fit_one_cycle(3, 7e-04, moms=(0.8, 0.7))"
   ]
  },
  {
   "cell_type": "code",
   "execution_count": 19,
   "metadata": {},
   "outputs": [
    {
     "data": {
      "image/png": "[encoded data removed]",
      "text/plain": [
       "<Figure size 432x288 with 1 Axes>"
      ]
     },
     "metadata": {
      "needs_background": "light"
     },
     "output_type": "display_data"
    }
   ],
   "source": [
    "learn.recorder.plot_losses()"
   ]
  },
  {
   "cell_type": "code",
   "execution_count": 20,
   "metadata": {},
   "outputs": [],
   "source": [
    "learn.save(\"classifier\")"
   ]
  }
 ],
 "metadata": {
  "kernelspec": {
   "display_name": "Python 3",
   "language": "python",
   "name": "python3"
  },
  "language_info": {
   "codemirror_mode": {
    "name": "ipython",
    "version": 3
   },
   "file_extension": ".py",
   "mimetype": "text/x-python",
   "name": "python",
   "nbconvert_exporter": "python",
   "pygments_lexer": "ipython3",
   "version": "3.7.3"
  }
 },
 "nbformat": 4,
 "nbformat_minor": 2
}
