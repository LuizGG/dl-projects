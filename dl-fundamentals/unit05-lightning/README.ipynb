{
 "cells": [
  {
   "attachments": {},
   "cell_type": "markdown",
   "metadata": {},
   "source": [
    "# Using this Studio"
   ]
  },
  {
   "attachments": {},
   "cell_type": "markdown",
   "metadata": {},
   "source": [
    "You can find the code covered in the Unit 5 videos in the `./code-units` subfolder. I recommend you first watch the videos and then experiment with the code.\n",
    "\n",
    "\n",
    "<br>\n",
    "\n",
    "<iframe width=\"560\" height=\"315\" src=\"https://www.youtube.com/embed/DxALtmlxQ4U?si=Qa8hF9NPVdQRRMVf\" title=\"YouTube video player\" frameborder=\"0\" allow=\"accelerometer; autoplay; clipboard-write; encrypted-media; gyroscope; picture-in-picture; web-share\" allowfullscreen></iframe>\n",
    "\n",
    "- Videos of [Part 2](https://www.youtube.com/watch?v=Y11-leJtC1k&list=PLaMu-SDt_RB7QZz-kTjdE_IkNDG0ZcHr-&index=4) and [Part 3](https://www.youtube.com/watch?v=8NKXArrnJlQ&list=PLaMu-SDt_RB7QZz-kTjdE_IkNDG0ZcHr-&index=5)\n",
    "- [The complete YouTube Playlist](https://www.youtube.com/watch?v=x4UvpMsyG8M&list=PLaMu-SDt_RB7QZz-kTjdE_IkNDG0ZcHr-) with all 19 videos in Unit 5\n",
    "- [Or access the Unit 5 videos on the Lightning website](https://lightning.ai/courses/deep-learning-fundamentals/), which includes additional quizzes\n",
    "\n",
    "<br>\n"
   ]
  },
  {
   "attachments": {},
   "cell_type": "markdown",
   "metadata": {},
   "source": [
    "After exploring the code, you may want to try the following exercises in the `./exercises` subfolder. (Solutions to the excercises can be found in the `./solutions` subfolder)."
   ]
  }
 ],
 "metadata": {
  "kernelspec": {
   "display_name": "Python 3",
   "language": "python",
   "name": "python3"
  },
  "language_info": {
   "codemirror_mode": {
    "name": "ipython",
    "version": 3
   },
   "file_extension": ".py",
   "mimetype": "text/x-python",
   "name": "python",
   "nbconvert_exporter": "python",
   "pygments_lexer": "ipython3",
   "version": "3.10.10"
  }
 },
 "nbformat": 4,
 "nbformat_minor": 4
}
