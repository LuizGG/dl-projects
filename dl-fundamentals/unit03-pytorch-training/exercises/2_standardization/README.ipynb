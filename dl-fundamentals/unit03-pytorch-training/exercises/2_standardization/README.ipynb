{
 "cells": [
  {
   "cell_type": "markdown",
   "id": "3237fe21-6974-4254-9ef8-f9524b91c11a",
   "metadata": {},
   "source": [
    "# EXERCISES\n",
    "\n",
    "## Exercise 2: Standardization\n",
    "\n",
    "This exercise is an extension of Exercise 1. Here, the goal is to add code to standardize the features such that they have a mean of 0 and a standard deviation of 1 as discussed in Unit 3.7.\n",
    "\n",
    "\n",
    "Link to exercise notebook: [exercise_2_standardization.ipynb](exercise_2_standardization.ipynb)"
   ]
  },
  {
   "cell_type": "code",
   "execution_count": null,
   "id": "99640f05-aca2-4f31-a243-698989111453",
   "metadata": {},
   "outputs": [],
   "source": []
  }
 ],
 "metadata": {
  "kernelspec": {
   "display_name": "Python 3",
   "language": "python",
   "name": "python3"
  },
  "language_info": {
   "codemirror_mode": {
    "name": "ipython",
    "version": 3
   },
   "file_extension": ".py",
   "mimetype": "text/x-python",
   "name": "python",
   "nbconvert_exporter": "python",
   "pygments_lexer": "ipython3",
   "version": "3.10.10"
  }
 },
 "nbformat": 4,
 "nbformat_minor": 5
}
