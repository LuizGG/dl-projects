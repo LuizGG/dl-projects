{
 "cells": [
  {
   "cell_type": "markdown",
   "id": "2c5b1191-a09b-49e6-a1fc-66104af7a469",
   "metadata": {},
   "source": [
    "# EXERCISES\n",
    "\n",
    "## Exercise 1: Banknote Authentication\n",
    "\n",
    "In this exercise, we are applying logistic regression to a banknote authentication dataset to distinguish between genuine and forged bank notes.\n",
    "\n",
    "\n",
    "**The dataset consists of 1372 examples and 4 features for binary classification.** The features are \n",
    "\n",
    "1. variance of a wavelet-transformed image (continuous) \n",
    "2. skewness of a wavelet-transformed image (continuous) \n",
    "3. kurtosis of a wavelet-transformed image (continuous) \n",
    "4. entropy of the image (continuous) \n",
    "\n",
    "(You can fine more details about this dataset at [https://archive.ics.uci.edu/ml/datasets/banknote+authentication](https://archive.ics.uci.edu/ml/datasets/banknote+authentication).)\n",
    "\n",
    "\n",
    "In essence, these four features represent features that were manually extracted from image data. Note that you do not need the details of these features for this exercise. \n",
    "\n",
    "However, you are encouraged to explore the dataset further, e.g., by plotting the features, looking at the value ranges, and so forth. (We will skip these steps for brevity in this exercise)\n",
    "\n",
    "Link to exercise notebook: [exercise_1_banknotes.ipynb](exercise_1_banknotes.ipynb)"
   ]
  },
  {
   "cell_type": "code",
   "execution_count": null,
   "id": "59aa92e9-9c20-4ade-90e9-aa99fcef481d",
   "metadata": {},
   "outputs": [],
   "source": []
  }
 ],
 "metadata": {
  "kernelspec": {
   "display_name": "Python 3",
   "language": "python",
   "name": "python3"
  },
  "language_info": {
   "codemirror_mode": {
    "name": "ipython",
    "version": 3
   },
   "file_extension": ".py",
   "mimetype": "text/x-python",
   "name": "python",
   "nbconvert_exporter": "python",
   "pygments_lexer": "ipython3",
   "version": "3.10.10"
  }
 },
 "nbformat": 4,
 "nbformat_minor": 5
}
