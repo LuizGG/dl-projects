{
 "cells": [
  {
   "cell_type": "markdown",
   "metadata": {},
   "source": [
    "# EXERCISES\n",
    "\n",
    "## Exercise 1: Add early-stopping to make the Perceptron more efficient.\n",
    "\n",
    "In its original implementation, the perceptron completes the number of epochs specified via the `epochs` argument:\n",
    "\n",
    "```python\n",
    "def train(model, all_x, all_y, epochs):\n",
    "    ...\n",
    "```\n",
    "\n",
    "However, this can result in executing too many unnecessarily. Modify the `train` function in Section 4 (`4) Implementing the Perceptron` such that it automatically stops when the perceptron classifies the training data perfectly.\n",
    "\n",
    "Link to exercise notebook: [exercise_1_early-stop.ipynb](exercise_1_early-stop.ipynb)"
   ]
  }
 ],
 "metadata": {
  "language_info": {
   "name": "python"
  },
  "orig_nbformat": 4
 },
 "nbformat": 4,
 "nbformat_minor": 2
}
