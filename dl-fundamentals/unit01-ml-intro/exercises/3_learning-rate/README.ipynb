{
 "cells": [
  {
   "cell_type": "markdown",
   "id": "9f8ef031-1d79-4584-ba56-d64374c2f2c8",
   "metadata": {},
   "source": [
    "# EXERCISES\n",
    "\n",
    "## Exercise 3: Use a learning rate for updating the weights and bias unit\n",
    "\n",
    "Modify the `Perceptron` class using a so-called *learning rate* for updating the weights and bias unit. The learning rate is a setting for adjusting the magnitude of the weight and bias unit updates. Changing the learning rate can accelerate or slow down the learning speed of the perceptron (in terms of the number of iterations required for finding a good decision boundary).\n",
    "\n",
    "\n",
    "\n",
    "Link to exercise notebook: [exercise_3_learning-rate.ipynb](exercise_3_learning-rate.ipynb)"
   ]
  }
 ],
 "metadata": {
  "kernelspec": {
   "display_name": "Python 3",
   "language": "python",
   "name": "python3"
  },
  "language_info": {
   "codemirror_mode": {
    "name": "ipython",
    "version": 3
   },
   "file_extension": ".py",
   "mimetype": "text/x-python",
   "name": "python",
   "nbconvert_exporter": "python",
   "pygments_lexer": "ipython3",
   "version": "3.10.10"
  }
 },
 "nbformat": 4,
 "nbformat_minor": 5
}
