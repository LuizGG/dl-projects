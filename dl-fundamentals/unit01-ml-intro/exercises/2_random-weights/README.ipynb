{
 "cells": [
  {
   "cell_type": "markdown",
   "id": "8adf69d8-a982-430d-86e2-016301a5236d",
   "metadata": {},
   "source": [
    "# EXERCISES\n",
    "\n",
    "## Exercise 2: Initialize the model parameters with small random numbers instead of 0's\n",
    "\n",
    "Modify the Perceptron class in Section 4 such that it initializes the weights and bias unit using small random numbers (detailed instructions are provided in the notebook). Then observe how it affects the training performance of the perceptron. Does it train/learn better or worse?\n",
    "\n",
    "\n",
    "\n",
    "Link to exercise notebook: [exercise_2_random-weights.ipynb](exercise_2_random-weights.ipynb)\n"
   ]
  },
  {
   "cell_type": "code",
   "execution_count": null,
   "id": "ad1c30c0-fed4-4b35-b206-d4a487ed59d8",
   "metadata": {},
   "outputs": [],
   "source": []
  }
 ],
 "metadata": {
  "kernelspec": {
   "display_name": "Python 3",
   "language": "python",
   "name": "python3"
  },
  "language_info": {
   "codemirror_mode": {
    "name": "ipython",
    "version": 3
   },
   "file_extension": ".py",
   "mimetype": "text/x-python",
   "name": "python",
   "nbconvert_exporter": "python",
   "pygments_lexer": "ipython3",
   "version": "3.10.10"
  }
 },
 "nbformat": 4,
 "nbformat_minor": 5
}
