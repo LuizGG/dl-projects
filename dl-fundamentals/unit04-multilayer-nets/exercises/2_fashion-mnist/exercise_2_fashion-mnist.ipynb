{
 "cells": [
  {
   "cell_type": "markdown",
   "id": "d71bce70-9dc3-448b-9f9a-8896e83b6d09",
   "metadata": {},
   "source": [
    "# Implementing a Multilayer Perceptron (MNIST)"
   ]
  },
  {
   "cell_type": "markdown",
   "id": "e5b48fc7-4f46-4d5a-8558-cd06892aaa27",
   "metadata": {},
   "source": [
    "## 1) Installing Libraries"
   ]
  },
  {
   "cell_type": "code",
   "execution_count": 1,
   "id": "bc4fa295-5c62-4888-bcf8-d07d6a7afc47",
   "metadata": {},
   "outputs": [
    {
     "name": "stderr",
     "output_type": "stream",
     "text": [
      "Matplotlib created a temporary cache directory at /tmp/matplotlib-k41rxp9y because the default path (/teamspace/studios/this_studio/.config/matplotlib) is not a writable directory; it is highly recommended to set the MPLCONFIGDIR environment variable to a writable directory, in particular to speed up the import of Matplotlib and to better support multiprocessing.\n"
     ]
    },
    {
     "name": "stdout",
     "output_type": "stream",
     "text": [
      "Python implementation: CPython\n",
      "Python version       : 3.10.10\n",
      "IPython version      : 8.17.2\n",
      "\n",
      "numpy     : 1.26.2\n",
      "pandas    : 2.1.4\n",
      "matplotlib: 3.8.2\n",
      "torch     : 2.1.2+cu121\n",
      "\n"
     ]
    }
   ],
   "source": [
    "%load_ext watermark\n",
    "%watermark -v -p numpy,pandas,matplotlib,torch"
   ]
  },
  {
   "cell_type": "markdown",
   "id": "5dfed953",
   "metadata": {},
   "source": [
    "## 1) Downloading the data\n",
    "\n",
    "- Fashion MNIST website: https://github.com/zalandoresearch/fashion-mnist"
   ]
  },
  {
   "cell_type": "code",
   "execution_count": 14,
   "id": "cb5db2e7",
   "metadata": {},
   "outputs": [],
   "source": [
    "from git import Repo\n",
    "import os\n",
    "import numpy as np"
   ]
  },
  {
   "cell_type": "code",
   "execution_count": 5,
   "id": "a18ef5db",
   "metadata": {},
   "outputs": [],
   "source": [
    "if not os.path.exists(\"fashion-mnist\"):\n",
    "    Repo.clone_from(\"https://github.com/zalandoresearch/fashion-mnist\", \"fashion-mnist\")"
   ]
  },
  {
   "cell_type": "markdown",
   "id": "b9549676-2fa5-41a7-bbb9-ce03f5797c34",
   "metadata": {},
   "source": [
    "## 2) Loading the dataset"
   ]
  },
  {
   "cell_type": "code",
   "execution_count": 6,
   "id": "f609024c-3eae-4ad5-8cb8-b95b403b7606",
   "metadata": {},
   "outputs": [],
   "source": [
    "from torch.utils.data import DataLoader\n",
    "from torchvision import datasets, transforms\n",
    "\n",
    "\n",
    "def load_mnist(path, kind='train'):\n",
    "    import os\n",
    "    import gzip\n",
    "    import numpy as np\n",
    "\n",
    "    \"\"\"Load MNIST data from `path`\"\"\"\n",
    "    labels_path = os.path.join(path,\n",
    "                               '%s-labels-idx1-ubyte.gz'\n",
    "                               % kind)\n",
    "    images_path = os.path.join(path,\n",
    "                               '%s-images-idx3-ubyte.gz'\n",
    "                               % kind)\n",
    "\n",
    "    with gzip.open(labels_path, 'rb') as lbpath:\n",
    "        labels = np.frombuffer(lbpath.read(), dtype=np.uint8,\n",
    "                               offset=8)\n",
    "\n",
    "    with gzip.open(images_path, 'rb') as imgpath:\n",
    "        images = np.frombuffer(imgpath.read(), dtype=np.uint8,\n",
    "                               offset=16).reshape(len(labels), 784)\n",
    "\n",
    "    return images, labels"
   ]
  },
  {
   "cell_type": "code",
   "execution_count": 16,
   "id": "9ae4660a",
   "metadata": {},
   "outputs": [],
   "source": [
    "train, y_train = load_mnist(\"fashion-mnist/data/fashion\")\n",
    "test, y_test = load_mnist(\"fashion-mnist/data/fashion\", kind=\"t10k\")"
   ]
  },
  {
   "cell_type": "code",
   "execution_count": 18,
   "id": "36ee1115",
   "metadata": {},
   "outputs": [
    {
     "name": "stdout",
     "output_type": "stream",
     "text": [
      "Train data shape: (60000, 784)\n",
      "Test data shape: (10000, 784)\n"
     ]
    }
   ],
   "source": [
    "print(f\"Train data shape: {train.shape}\")\n",
    "print(f\"Test data shape: {test.shape}\")"
   ]
  },
  {
   "cell_type": "code",
   "execution_count": 19,
   "id": "aaf132a4",
   "metadata": {},
   "outputs": [
    {
     "name": "stdout",
     "output_type": "stream",
     "text": [
      "Train data label distribution: [6000 6000 6000 6000 6000 6000 6000 6000 6000 6000]\n",
      "Test data label distribution: [1000 1000 1000 1000 1000 1000 1000 1000 1000 1000]\n"
     ]
    }
   ],
   "source": [
    "print(f\"Train data label distribution: {np.bincount(y_train)}\")\n",
    "print(f\"Test data label distribution: {np.bincount(y_test)}\")"
   ]
  },
  {
   "cell_type": "code",
   "execution_count": 31,
   "id": "53652f7f-1327-4992-a78a-345921eeb854",
   "metadata": {},
   "outputs": [],
   "source": [
    "from torch.utils.data import DataLoader, Dataset\n",
    "\n",
    "\n",
    "class MyDataset(Dataset):\n",
    "    def __init__(self, features, labels, transform=None):\n",
    "\n",
    "        self.features = features\n",
    "        self.labels = labels\n",
    "        self.transform = transform\n",
    "\n",
    "    def __getitem__(self, index):\n",
    "\n",
    "        img = self.features[index]\n",
    "        y = self.labels[index]\n",
    "\n",
    "        img = torch.tensor(img).to(torch.float32)\n",
    "        img = img/255.\n",
    "\n",
    "        if self.transform is not None:\n",
    "            img = self.transform(img)\n",
    "\n",
    "        return img, y\n",
    "\n",
    "    def __len__(self):\n",
    "        return self.labels.shape[0]"
   ]
  },
  {
   "cell_type": "code",
   "execution_count": 32,
   "id": "3b656a68",
   "metadata": {},
   "outputs": [],
   "source": [
    "train_dataset = MyDataset(train, y_train)\n",
    "test_dataset = MyDataset(test, y_test)"
   ]
  },
  {
   "cell_type": "code",
   "execution_count": 33,
   "id": "6661307a-6220-48d5-b965-4cd36e29e54c",
   "metadata": {},
   "outputs": [
    {
     "data": {
      "text/plain": [
       "60000"
      ]
     },
     "execution_count": 33,
     "metadata": {},
     "output_type": "execute_result"
    }
   ],
   "source": [
    "len(train_dataset)"
   ]
  },
  {
   "cell_type": "code",
   "execution_count": 34,
   "id": "78adc94e-5418-4aac-9a82-9a9cbf8fc688",
   "metadata": {},
   "outputs": [
    {
     "data": {
      "text/plain": [
       "10000"
      ]
     },
     "execution_count": 34,
     "metadata": {},
     "output_type": "execute_result"
    }
   ],
   "source": [
    "len(test_dataset)"
   ]
  },
  {
   "cell_type": "markdown",
   "id": "765adcf0-9147-434b-917a-f6d736a7117e",
   "metadata": {},
   "source": [
    "### Create a validation set"
   ]
  },
  {
   "cell_type": "code",
   "execution_count": 35,
   "id": "b39a42a2-cd46-46cf-ba93-d3f2f232f29c",
   "metadata": {},
   "outputs": [],
   "source": [
    "import torch\n",
    "from torch.utils.data.dataset import random_split\n",
    "\n",
    "torch.manual_seed(1)\n",
    "train_dataset, val_dataset = random_split(train_dataset, lengths=[55000, 5000])"
   ]
  },
  {
   "cell_type": "code",
   "execution_count": 36,
   "id": "b30e4a70-55b3-4fb0-b28d-b0fddd193fae",
   "metadata": {},
   "outputs": [],
   "source": [
    "train_loader = DataLoader(\n",
    "    dataset=train_dataset,\n",
    "    batch_size=64,\n",
    "    shuffle=True,\n",
    ")\n",
    "\n",
    "val_loader = DataLoader(\n",
    "    dataset=val_dataset,\n",
    "    batch_size=64,\n",
    "    shuffle=False,\n",
    ")\n",
    "\n",
    "test_loader = DataLoader(\n",
    "    dataset=test_dataset,\n",
    "    batch_size=64,\n",
    "    shuffle=False,\n",
    ")"
   ]
  },
  {
   "cell_type": "markdown",
   "id": "8666e928",
   "metadata": {},
   "source": [
    "### Evaluating a few batches"
   ]
  },
  {
   "cell_type": "code",
   "execution_count": 37,
   "id": "3de1ebae",
   "metadata": {},
   "outputs": [
    {
     "name": "stdout",
     "output_type": "stream",
     "text": [
      " Batch index: 0 | Batch size: 64 | x shape: torch.Size([64, 784]) | y shape: torch.Size([64])\n",
      " Batch index: 1 | Batch size: 64 | x shape: torch.Size([64, 784]) | y shape: torch.Size([64])\n",
      " Batch index: 2 | Batch size: 64 | x shape: torch.Size([64, 784]) | y shape: torch.Size([64])\n",
      "Labels from current batch: tensor([4, 8, 9, 9, 9, 0, 6, 4, 7, 6, 0, 1, 7, 7, 7, 1, 3, 9, 7, 8, 8, 6, 9, 1,\n",
      "        3, 8, 2, 2, 6, 6, 1, 3, 0, 4, 0, 7, 6, 4, 8, 2, 1, 3, 0, 5, 4, 8, 1, 1,\n",
      "        2, 7, 7, 0, 5, 3, 9, 4, 2, 2, 3, 3, 5, 2, 1, 9], dtype=torch.uint8)\n"
     ]
    }
   ],
   "source": [
    "import time\n",
    "\n",
    "num_epochs = 1\n",
    "for epoch in range(num_epochs):\n",
    "\n",
    "    for batch_idx, (x, y) in enumerate(train_loader):\n",
    "        time.sleep(1)\n",
    "        if batch_idx >= 3:\n",
    "            break\n",
    "        print(\" Batch index:\", batch_idx, end=\"\")\n",
    "        print(\" | Batch size:\", y.shape[0], end=\"\")\n",
    "        print(\" | x shape:\", x.shape, end=\"\")\n",
    "        print(\" | y shape:\", y.shape)\n",
    "\n",
    "print(\"Labels from current batch:\", y)"
   ]
  },
  {
   "cell_type": "markdown",
   "id": "db50db02-3696-4f86-b149-74baabeec6c4",
   "metadata": {},
   "source": [
    "## 3) Implementing the model"
   ]
  },
  {
   "cell_type": "code",
   "execution_count": 38,
   "id": "971389a7-5424-4141-a3ee-9399eebbbb6a",
   "metadata": {},
   "outputs": [],
   "source": [
    "import torch\n",
    "\n",
    "class PyTorchMLP(torch.nn.Module):\n",
    "    def __init__(self, num_features, num_classes, hl=[50, 25]):\n",
    "        super().__init__()\n",
    "        \n",
    "        n_hl = len(hl)\n",
    "\n",
    "        # Starts with the head/input layer\n",
    "        layers = [torch.nn.Linear(num_features, hl[0]), torch.nn.ReLU()]\n",
    "\n",
    "        # Intermediate layers\n",
    "        if n_hl > 1:\n",
    "            for l in range(1, n_hl):\n",
    "                layers.append(torch.nn.Linear(hl[l-1], hl[l]))\n",
    "\n",
    "        # Output layers\n",
    "        layers.append(torch.nn.Linear(hl[-1], num_classes))\n",
    "\n",
    "        self.all_layers = torch.nn.Sequential(*layers)\n",
    "\n",
    "    def forward(self, x):\n",
    "        logits = self.all_layers(x)\n",
    "        return logits"
   ]
  },
  {
   "cell_type": "code",
   "execution_count": 39,
   "id": "d21e35a1",
   "metadata": {},
   "outputs": [],
   "source": [
    "def print_number_params(model):\n",
    "\n",
    "    n_params = sum(p.numel() for p in model.parameters())\n",
    "\n",
    "    print(n_params)"
   ]
  },
  {
   "cell_type": "markdown",
   "id": "46bc16a0-ec59-4c54-a209-0a5e22406287",
   "metadata": {},
   "source": [
    "## 4) The training loop"
   ]
  },
  {
   "cell_type": "code",
   "execution_count": 40,
   "id": "8de213fc-48b0-4f7c-af9e-8e2da068e351",
   "metadata": {},
   "outputs": [],
   "source": [
    "def compute_accuracy(model, dataloader):\n",
    "\n",
    "    model = model.eval()\n",
    "\n",
    "    correct = 0.0\n",
    "    total_examples = 0\n",
    "\n",
    "    for idx, (features, labels) in enumerate(dataloader):\n",
    "\n",
    "        with torch.no_grad():\n",
    "            logits = model(features)\n",
    "\n",
    "        predictions = torch.argmax(logits, dim=1)\n",
    "\n",
    "        compare = labels == predictions\n",
    "        correct += torch.sum(compare)\n",
    "        total_examples += len(compare)\n",
    "\n",
    "    return correct / total_examples"
   ]
  },
  {
   "cell_type": "code",
   "execution_count": 43,
   "id": "3dcaa2b1-4019-4128-9ff5-6a966c3abdf2",
   "metadata": {},
   "outputs": [
    {
     "name": "stdout",
     "output_type": "stream",
     "text": [
      "Epoch: 001/030 | Batch 000/860 | Train Loss: 2.31\n"
     ]
    },
    {
     "name": "stdout",
     "output_type": "stream",
     "text": [
      "Epoch: 001/030 | Batch 250/860 | Train Loss: 1.62\n",
      "Epoch: 001/030 | Batch 500/860 | Train Loss: 1.05\n",
      "Epoch: 001/030 | Batch 750/860 | Train Loss: 0.90\n",
      "Train Acc 71.07% | Val Acc 72.24%\n",
      "Epoch: 002/030 | Batch 000/860 | Train Loss: 0.80\n",
      "Epoch: 002/030 | Batch 250/860 | Train Loss: 0.60\n",
      "Epoch: 002/030 | Batch 500/860 | Train Loss: 0.69\n",
      "Epoch: 002/030 | Batch 750/860 | Train Loss: 0.67\n",
      "Train Acc 77.12% | Val Acc 77.34%\n",
      "Epoch: 003/030 | Batch 000/860 | Train Loss: 0.84\n",
      "Epoch: 003/030 | Batch 250/860 | Train Loss: 0.59\n",
      "Epoch: 003/030 | Batch 500/860 | Train Loss: 0.49\n",
      "Epoch: 003/030 | Batch 750/860 | Train Loss: 0.75\n",
      "Train Acc 79.71% | Val Acc 80.00%\n",
      "Epoch: 004/030 | Batch 000/860 | Train Loss: 0.69\n",
      "Epoch: 004/030 | Batch 250/860 | Train Loss: 0.55\n",
      "Epoch: 004/030 | Batch 500/860 | Train Loss: 0.42\n",
      "Epoch: 004/030 | Batch 750/860 | Train Loss: 0.36\n",
      "Train Acc 79.20% | Val Acc 79.46%\n",
      "Epoch: 005/030 | Batch 000/860 | Train Loss: 0.62\n",
      "Epoch: 005/030 | Batch 250/860 | Train Loss: 0.65\n",
      "Epoch: 005/030 | Batch 500/860 | Train Loss: 0.65\n",
      "Epoch: 005/030 | Batch 750/860 | Train Loss: 0.56\n",
      "Train Acc 82.18% | Val Acc 82.04%\n",
      "Epoch: 006/030 | Batch 000/860 | Train Loss: 0.52\n",
      "Epoch: 006/030 | Batch 250/860 | Train Loss: 0.30\n",
      "Epoch: 006/030 | Batch 500/860 | Train Loss: 0.49\n",
      "Epoch: 006/030 | Batch 750/860 | Train Loss: 0.54\n",
      "Train Acc 83.25% | Val Acc 82.98%\n",
      "Epoch: 007/030 | Batch 000/860 | Train Loss: 0.59\n",
      "Epoch: 007/030 | Batch 250/860 | Train Loss: 0.57\n",
      "Epoch: 007/030 | Batch 500/860 | Train Loss: 0.50\n",
      "Epoch: 007/030 | Batch 750/860 | Train Loss: 0.58\n",
      "Train Acc 83.89% | Val Acc 83.18%\n",
      "Epoch: 008/030 | Batch 000/860 | Train Loss: 0.34\n",
      "Epoch: 008/030 | Batch 250/860 | Train Loss: 0.37\n",
      "Epoch: 008/030 | Batch 500/860 | Train Loss: 0.37\n",
      "Epoch: 008/030 | Batch 750/860 | Train Loss: 0.27\n",
      "Train Acc 84.41% | Val Acc 84.04%\n",
      "Epoch: 009/030 | Batch 000/860 | Train Loss: 0.66\n",
      "Epoch: 009/030 | Batch 250/860 | Train Loss: 0.52\n",
      "Epoch: 009/030 | Batch 500/860 | Train Loss: 0.44\n",
      "Epoch: 009/030 | Batch 750/860 | Train Loss: 0.49\n",
      "Train Acc 84.40% | Val Acc 83.74%\n",
      "Epoch: 010/030 | Batch 000/860 | Train Loss: 0.39\n",
      "Epoch: 010/030 | Batch 250/860 | Train Loss: 0.46\n",
      "Epoch: 010/030 | Batch 500/860 | Train Loss: 0.59\n",
      "Epoch: 010/030 | Batch 750/860 | Train Loss: 0.41\n",
      "Train Acc 84.70% | Val Acc 83.92%\n",
      "Epoch: 011/030 | Batch 000/860 | Train Loss: 0.28\n",
      "Epoch: 011/030 | Batch 250/860 | Train Loss: 0.43\n",
      "Epoch: 011/030 | Batch 500/860 | Train Loss: 0.35\n",
      "Epoch: 011/030 | Batch 750/860 | Train Loss: 0.58\n",
      "Train Acc 84.91% | Val Acc 84.28%\n",
      "Epoch: 012/030 | Batch 000/860 | Train Loss: 0.46\n",
      "Epoch: 012/030 | Batch 250/860 | Train Loss: 0.48\n",
      "Epoch: 012/030 | Batch 500/860 | Train Loss: 0.41\n",
      "Epoch: 012/030 | Batch 750/860 | Train Loss: 0.30\n",
      "Train Acc 84.61% | Val Acc 84.18%\n",
      "Epoch: 013/030 | Batch 000/860 | Train Loss: 0.41\n",
      "Epoch: 013/030 | Batch 250/860 | Train Loss: 0.42\n",
      "Epoch: 013/030 | Batch 500/860 | Train Loss: 0.42\n",
      "Epoch: 013/030 | Batch 750/860 | Train Loss: 0.46\n",
      "Train Acc 84.66% | Val Acc 84.74%\n",
      "Epoch: 014/030 | Batch 000/860 | Train Loss: 0.45\n",
      "Epoch: 014/030 | Batch 250/860 | Train Loss: 0.52\n",
      "Epoch: 014/030 | Batch 500/860 | Train Loss: 0.32\n",
      "Epoch: 014/030 | Batch 750/860 | Train Loss: 0.35\n",
      "Train Acc 85.66% | Val Acc 85.02%\n",
      "Epoch: 015/030 | Batch 000/860 | Train Loss: 0.33\n",
      "Epoch: 015/030 | Batch 250/860 | Train Loss: 0.32\n",
      "Epoch: 015/030 | Batch 500/860 | Train Loss: 0.32\n",
      "Epoch: 015/030 | Batch 750/860 | Train Loss: 0.48\n",
      "Train Acc 85.34% | Val Acc 84.76%\n",
      "Epoch: 016/030 | Batch 000/860 | Train Loss: 0.25\n",
      "Epoch: 016/030 | Batch 250/860 | Train Loss: 0.33\n",
      "Epoch: 016/030 | Batch 500/860 | Train Loss: 0.55\n",
      "Epoch: 016/030 | Batch 750/860 | Train Loss: 0.37\n",
      "Train Acc 85.60% | Val Acc 84.84%\n",
      "Epoch: 017/030 | Batch 000/860 | Train Loss: 0.47\n",
      "Epoch: 017/030 | Batch 250/860 | Train Loss: 0.31\n",
      "Epoch: 017/030 | Batch 500/860 | Train Loss: 0.41\n",
      "Epoch: 017/030 | Batch 750/860 | Train Loss: 0.32\n",
      "Train Acc 85.97% | Val Acc 85.18%\n",
      "Epoch: 018/030 | Batch 000/860 | Train Loss: 0.38\n",
      "Epoch: 018/030 | Batch 250/860 | Train Loss: 0.32\n",
      "Epoch: 018/030 | Batch 500/860 | Train Loss: 0.37\n",
      "Epoch: 018/030 | Batch 750/860 | Train Loss: 0.51\n",
      "Train Acc 85.44% | Val Acc 84.90%\n",
      "Epoch: 019/030 | Batch 000/860 | Train Loss: 0.66\n",
      "Epoch: 019/030 | Batch 250/860 | Train Loss: 0.30\n",
      "Epoch: 019/030 | Batch 500/860 | Train Loss: 0.40\n",
      "Epoch: 019/030 | Batch 750/860 | Train Loss: 0.62\n",
      "Train Acc 86.47% | Val Acc 85.14%\n",
      "Epoch: 020/030 | Batch 000/860 | Train Loss: 0.38\n",
      "Epoch: 020/030 | Batch 250/860 | Train Loss: 0.13\n",
      "Epoch: 020/030 | Batch 500/860 | Train Loss: 0.55\n",
      "Epoch: 020/030 | Batch 750/860 | Train Loss: 0.21\n",
      "Train Acc 86.02% | Val Acc 85.00%\n",
      "Epoch: 021/030 | Batch 000/860 | Train Loss: 0.43\n",
      "Epoch: 021/030 | Batch 250/860 | Train Loss: 0.12\n",
      "Epoch: 021/030 | Batch 500/860 | Train Loss: 0.30\n",
      "Epoch: 021/030 | Batch 750/860 | Train Loss: 0.35\n",
      "Train Acc 86.49% | Val Acc 85.60%\n",
      "Epoch: 022/030 | Batch 000/860 | Train Loss: 0.39\n",
      "Epoch: 022/030 | Batch 250/860 | Train Loss: 0.42\n",
      "Epoch: 022/030 | Batch 500/860 | Train Loss: 0.43\n",
      "Epoch: 022/030 | Batch 750/860 | Train Loss: 0.55\n",
      "Train Acc 86.42% | Val Acc 85.44%\n",
      "Epoch: 023/030 | Batch 000/860 | Train Loss: 0.39\n",
      "Epoch: 023/030 | Batch 250/860 | Train Loss: 0.36\n",
      "Epoch: 023/030 | Batch 500/860 | Train Loss: 0.22\n",
      "Epoch: 023/030 | Batch 750/860 | Train Loss: 0.49\n",
      "Train Acc 86.99% | Val Acc 85.66%\n",
      "Epoch: 024/030 | Batch 000/860 | Train Loss: 0.36\n",
      "Epoch: 024/030 | Batch 250/860 | Train Loss: 0.39\n",
      "Epoch: 024/030 | Batch 500/860 | Train Loss: 0.29\n",
      "Epoch: 024/030 | Batch 750/860 | Train Loss: 0.49\n",
      "Train Acc 86.98% | Val Acc 85.54%\n",
      "Epoch: 025/030 | Batch 000/860 | Train Loss: 0.34\n",
      "Epoch: 025/030 | Batch 250/860 | Train Loss: 0.44\n",
      "Epoch: 025/030 | Batch 500/860 | Train Loss: 0.49\n",
      "Epoch: 025/030 | Batch 750/860 | Train Loss: 0.48\n",
      "Train Acc 87.32% | Val Acc 86.24%\n",
      "Epoch: 026/030 | Batch 000/860 | Train Loss: 0.28\n",
      "Epoch: 026/030 | Batch 250/860 | Train Loss: 0.32\n",
      "Epoch: 026/030 | Batch 500/860 | Train Loss: 0.40\n",
      "Epoch: 026/030 | Batch 750/860 | Train Loss: 0.41\n",
      "Train Acc 86.19% | Val Acc 85.10%\n",
      "Epoch: 027/030 | Batch 000/860 | Train Loss: 0.43\n",
      "Epoch: 027/030 | Batch 250/860 | Train Loss: 0.28\n",
      "Epoch: 027/030 | Batch 500/860 | Train Loss: 0.28\n",
      "Epoch: 027/030 | Batch 750/860 | Train Loss: 0.37\n",
      "Train Acc 87.50% | Val Acc 86.24%\n",
      "Epoch: 028/030 | Batch 000/860 | Train Loss: 0.34\n",
      "Epoch: 028/030 | Batch 250/860 | Train Loss: 0.33\n",
      "Epoch: 028/030 | Batch 500/860 | Train Loss: 0.29\n",
      "Epoch: 028/030 | Batch 750/860 | Train Loss: 0.36\n",
      "Train Acc 87.21% | Val Acc 85.66%\n",
      "Epoch: 029/030 | Batch 000/860 | Train Loss: 0.40\n",
      "Epoch: 029/030 | Batch 250/860 | Train Loss: 0.34\n",
      "Epoch: 029/030 | Batch 500/860 | Train Loss: 0.28\n",
      "Epoch: 029/030 | Batch 750/860 | Train Loss: 0.39\n",
      "Train Acc 86.90% | Val Acc 86.06%\n",
      "Epoch: 030/030 | Batch 000/860 | Train Loss: 0.38\n",
      "Epoch: 030/030 | Batch 250/860 | Train Loss: 0.33\n",
      "Epoch: 030/030 | Batch 500/860 | Train Loss: 0.34\n",
      "Epoch: 030/030 | Batch 750/860 | Train Loss: 0.44\n",
      "Train Acc 87.61% | Val Acc 86.64%\n"
     ]
    }
   ],
   "source": [
    "import torch.nn.functional as F\n",
    "\n",
    "torch.manual_seed(1)\n",
    "model = PyTorchMLP(num_features=784, num_classes=10, hl=[32, 32])\n",
    "\n",
    "optimizer = torch.optim.SGD(model.parameters(), lr=0.01)\n",
    "\n",
    "num_epochs = 30\n",
    "\n",
    "loss_list = []\n",
    "train_acc_list, val_acc_list = [], []\n",
    "for epoch in range(num_epochs):\n",
    "\n",
    "    model = model.train()\n",
    "    for batch_idx, (features, labels) in enumerate(train_loader):\n",
    "\n",
    "        logits = model(features)\n",
    "\n",
    "        loss = F.cross_entropy(logits, labels)\n",
    "\n",
    "        optimizer.zero_grad()\n",
    "        loss.backward()\n",
    "        optimizer.step()\n",
    "\n",
    "        if not batch_idx % 250:\n",
    "            ### LOGGING\n",
    "            print(\n",
    "                f\"Epoch: {epoch+1:03d}/{num_epochs:03d}\"\n",
    "                f\" | Batch {batch_idx:03d}/{len(train_loader):03d}\"\n",
    "                f\" | Train Loss: {loss:.2f}\"\n",
    "            )\n",
    "        loss_list.append(loss.item())\n",
    "\n",
    "    train_acc = compute_accuracy(model, train_loader)\n",
    "    val_acc = compute_accuracy(model, val_loader)\n",
    "    print(f\"Train Acc {train_acc*100:.2f}% | Val Acc {val_acc*100:.2f}%\")\n",
    "    train_acc_list.append(train_acc)\n",
    "    val_acc_list.append(val_acc)"
   ]
  },
  {
   "cell_type": "markdown",
   "id": "bb0d5821-7c8d-46b5-9e7d-02e72cac2acc",
   "metadata": {},
   "source": [
    "## 5) Evaluating the results\n",
    "\n",
    "Benchmark is training accuracy of 85%"
   ]
  },
  {
   "cell_type": "code",
   "execution_count": 44,
   "id": "27538c8d-61bc-47b0-8289-b6aab4aa16ed",
   "metadata": {},
   "outputs": [
    {
     "name": "stdout",
     "output_type": "stream",
     "text": [
      "Train Acc 87.61%\n",
      "Val Acc 86.64%\n",
      "Test Acc 85.42%\n"
     ]
    }
   ],
   "source": [
    "train_acc = compute_accuracy(model, train_loader)\n",
    "val_acc = compute_accuracy(model, val_loader)\n",
    "test_acc = compute_accuracy(model, test_loader)\n",
    "\n",
    "print(f\"Train Acc {train_acc*100:.2f}%\")\n",
    "print(f\"Val Acc {val_acc*100:.2f}%\")\n",
    "print(f\"Test Acc {test_acc*100:.2f}%\")"
   ]
  },
  {
   "cell_type": "code",
   "execution_count": 45,
   "id": "0f1f8499-3191-4f78-b2d4-82daba9b9bc0",
   "metadata": {},
   "outputs": [
    {
     "data": {
      "image/png": "[encoded data removed]",
      "text/plain": [
       "<Figure size 640x480 with 2 Axes>"
      ]
     },
     "metadata": {},
     "output_type": "display_data"
    }
   ],
   "source": [
    "from helper_plotting import plot_training_loss\n",
    "\n",
    "plot_training_loss(minibatch_loss_list=loss_list,\n",
    "                   num_epochs=num_epochs,\n",
    "                   iter_per_epoch=len(loss_list)//num_epochs)"
   ]
  },
  {
   "cell_type": "code",
   "execution_count": 46,
   "id": "bf9d4519-b7a2-4382-90d0-a0dce2ee608e",
   "metadata": {},
   "outputs": [
    {
     "data": {
      "image/png": "[encoded data removed]",
      "text/plain": [
       "<Figure size 640x480 with 1 Axes>"
      ]
     },
     "metadata": {},
     "output_type": "display_data"
    }
   ],
   "source": [
    "from helper_plotting import plot_accuracy\n",
    "\n",
    "plot_accuracy(train_acc_list=train_acc_list, valid_acc_list=val_acc_list)"
   ]
  }
 ],
 "metadata": {
  "kernelspec": {
   "display_name": "Python 3 (ipykernel)",
   "language": "python",
   "name": "python3"
  },
  "language_info": {
   "codemirror_mode": {
    "name": "ipython",
    "version": 3
   },
   "file_extension": ".py",
   "mimetype": "text/x-python",
   "name": "python",
   "nbconvert_exporter": "python",
   "pygments_lexer": "ipython3",
   "version": "3.10.10"
  }
 },
 "nbformat": 4,
 "nbformat_minor": 5
}
