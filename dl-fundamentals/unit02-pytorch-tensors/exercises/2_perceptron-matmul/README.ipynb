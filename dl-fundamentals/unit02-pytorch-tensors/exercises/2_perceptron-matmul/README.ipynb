{
 "cells": [
  {
   "cell_type": "markdown",
   "id": "53a37b6c-dc18-468e-b549-4082ba33f4f1",
   "metadata": {},
   "source": [
    "# EXERCISES\n",
    "\n",
    "## Exercise 2: Make the Perceptron More Efficient Using Matrix Multiplication\n",
    "\n",
    "In this exercise, you are going to modify the `Perceptron` class such that it creates the predictions for multiple input examples all at once. \n",
    "\n",
    "Link to exercise notebook: [./exercise_2_perceptron-matmul.ipynb](./exercise_2_perceptron-matmul.ipynb)"
   ]
  }
 ],
 "metadata": {
  "kernelspec": {
   "display_name": "Python 3",
   "language": "python",
   "name": "python3"
  },
  "language_info": {
   "codemirror_mode": {
    "name": "ipython",
    "version": 3
   },
   "file_extension": ".py",
   "mimetype": "text/x-python",
   "name": "python",
   "nbconvert_exporter": "python",
   "pygments_lexer": "ipython3",
   "version": "3.10.10"
  }
 },
 "nbformat": 4,
 "nbformat_minor": 5
}
