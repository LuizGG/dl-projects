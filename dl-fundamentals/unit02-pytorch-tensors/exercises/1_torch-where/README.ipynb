{
 "cells": [
  {
   "cell_type": "markdown",
   "id": "40c452bf-c502-4d4c-8c22-6cc06237b328",
   "metadata": {},
   "source": [
    "# EXERCISES\n",
    "\n",
    "## Exercise 1: Introducing More PyTorch Functions To Make Your Code More Efficient\n",
    "\n",
    "\n",
    "\n",
    "The goal of this exercise is to simplify the code implementation\n",
    "of the `Perceptron` class. For this, we are going to use the `torch.where` function for the `forward` method.\n",
    "\n",
    "Your task is to learn about `torch.where` [using the PyTorch documentation](https://pytorch.org/docs/stable/). Finding `torch.where` in the API documentation is part of this exercise :).\n",
    "\n",
    "Then, using `torch.where`, make the appropriate changes in the `forward` method as instructed in the notebook below.\n",
    "\n",
    "\n",
    "\n",
    "Link to exercise notebook: [./exercise_1_torch-where.ipynb](./exercise_1_torch-where.ipynb)"
   ]
  }
 ],
 "metadata": {
  "kernelspec": {
   "display_name": "Python 3",
   "language": "python",
   "name": "python3"
  },
  "language_info": {
   "codemirror_mode": {
    "name": "ipython",
    "version": 3
   },
   "file_extension": ".py",
   "mimetype": "text/x-python",
   "name": "python",
   "nbconvert_exporter": "python",
   "pygments_lexer": "ipython3",
   "version": "3.10.10"
  }
 },
 "nbformat": 4,
 "nbformat_minor": 5
}
