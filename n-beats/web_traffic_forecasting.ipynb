{
 "cells": [
  {
   "cell_type": "markdown",
   "metadata": {},
   "source": [
    "# N-Beats for the Web Traffic Forecasting dataset\n",
    "\n",
    "A quick and dirty application of the n-beats architecture for time series forecasting using data from this kaggle competition. The original objective was to generate predictions for 165k series. In this notebook we will use just a small sample to see how the neural network performs on small datasets"
   ]
  },
  {
   "cell_type": "markdown",
   "metadata": {
    "colab_type": "text",
    "id": "OvPmTPExK7S8"
   },
   "source": [
    "## Setting up\n",
    "\n",
    "I originally ran on google colab and had the data stored on my personal drive"
   ]
  },
  {
   "cell_type": "code",
   "execution_count": null,
   "metadata": {
    "colab": {
     "base_uri": "https://localhost:8080/",
     "height": 126
    },
    "colab_type": "code",
    "id": "IXefy5bbKKKA",
    "outputId": "d410a289-e28c-4148-9630-0c53fe867b7f"
   },
   "outputs": [],
   "source": [
    "from google.colab import drive\n",
    "drive.mount('/content/drive')"
   ]
  },
  {
   "cell_type": "code",
   "execution_count": 2,
   "metadata": {
    "colab": {},
    "colab_type": "code",
    "id": "XBRyY_gaJ81P"
   },
   "outputs": [],
   "source": [
    "import torch\n",
    "import torch.nn as nn\n",
    "import torch.nn.functional as F\n",
    "import torch.optim as optim\n",
    "import numpy as np\n",
    "import matplotlib.pyplot as plt\n",
    "import pandas as pd\n",
    "\n",
    "plt.rcParams[\"figure.figsize\"] = (8, 8)"
   ]
  },
  {
   "cell_type": "markdown",
   "metadata": {
    "colab_type": "text",
    "id": "UtDBj8rqLPpr"
   },
   "source": [
    "## N-Beats\n",
    "\n",
    "Just defining the objects to build the neural net"
   ]
  },
  {
   "cell_type": "markdown",
   "metadata": {
    "colab_type": "text",
    "id": "piIhl4c-LRZu"
   },
   "source": [
    "### Blocks\n",
    "\n",
    "Here I define the blocks which are the bulk of the n-beats architecture. \n",
    "\n",
    "First I create a function to quickly create a MLP architecture, which is the base of each type of block, after, I set up functions to create the expansion coefficients for the interpretable version of n-beats.\n",
    "\n",
    "Lastly, I define each type of block, Generic, Trend and Seasonal."
   ]
  },
  {
   "cell_type": "code",
   "execution_count": 3,
   "metadata": {
    "colab": {},
    "colab_type": "code",
    "id": "zj-LRT9lLV6p"
   },
   "outputs": [],
   "source": [
    "def linear_stack(horizon, scale, width, activation=False, bias=True, layers=4):\n",
    "    \"\"\"\n",
    "    Creates a simple MLP, these are the foundation of each type of block proposed in the n-beats paper.\n",
    "    \n",
    "    Arguments:\n",
    "    horizon: The forecast period\n",
    "    scale: The scale parameter, this times horizon is the lookback period that serves as input to generate predictions\n",
    "    width: Number of nodes in each layer\n",
    "    activation: Activation function. Pass False if none required\n",
    "    bias: Include bias in each linear node?\n",
    "    layers: Number of layers    \n",
    "    \"\"\"\n",
    "    \n",
    "    head = [nn.Linear(horizon*scale, width, bias)]\n",
    "    fc = [nn.Linear(width, width, bias)]\n",
    "    \n",
    "    if activation:\n",
    "        head.append(activation)\n",
    "        fc.append(activation)\n",
    "    \n",
    "    stack = nn.Sequential(*head + fc*(layers-1))\n",
    "    \n",
    "    return stack\n",
    "\n",
    "def create_trend(length, p):\n",
    "    \"\"\"\n",
    "    Creates the expansion coefficients to force an increasing trend in each stack.\n",
    "    \n",
    "    Arguments:\n",
    "    length: Size of the input data\n",
    "    p: Desired polynomial degree. Typical is 2 to 3\n",
    "    \"\"\"\n",
    "    \n",
    "    t = np.arange(0, length)/length\n",
    "    T = torch.tensor([np.power(t ,i) for i in range(p+1)], dtype=torch.float)\n",
    "    \n",
    "    return T\n",
    "\n",
    "def create_season(horizon, scale):\n",
    "    \"\"\"\n",
    "    Creates the expansion coefficients to add regular seasonality in each stack.\n",
    "    \n",
    "    Arguments:\n",
    "    horizon: The forecast period\n",
    "    scale: The scale parameter, this times horizon is the lookback period that serves as input to generate predictions\n",
    "    \"\"\"\n",
    "    backcast_size = horizon*scale\n",
    "    \n",
    "    frequency = np.append(np.zeros(1), np.arange(scale, scale / 2 * horizon) / scale).reshape((1, -1))\n",
    "    backcast_grid = 2 * np.pi * (np.arange(backcast_size) / horizon).reshape((-1, 1)) * frequency\n",
    "    forecast_grid = 2 * np.pi * (np.arange(horizon) / horizon).reshape((-1, 1)) * frequency\n",
    "    \n",
    "    return torch.tensor(backcast_grid, dtype=torch.float), torch.tensor(forecast_grid, dtype=torch.float)"
   ]
  },
  {
   "cell_type": "code",
   "execution_count": 4,
   "metadata": {
    "colab": {},
    "colab_type": "code",
    "id": "G2RVJ2VYLW-h"
   },
   "outputs": [],
   "source": [
    "class GenericBlock(nn.Module):\n",
    "    def __init__(self, horizon, scale, width, layers, theta_len):\n",
    "        \"\"\"\n",
    "        The generic block as described on the paper. This might not generate interpretable outputs.\n",
    "\n",
    "        Arguments:\n",
    "        horizon: The forecast period\n",
    "        scale: The scale parameter, this times horizon is the lookback period that serves as input to generate predictions\n",
    "        width: Number of nodes in each layer\n",
    "        layers: Number of layers    \n",
    "        theta_len: The size of the non-interpretable expansion coefficients\n",
    "        \"\"\"\n",
    "        super().__init__()\n",
    "            \n",
    "        backcast_length = horizon*scale\n",
    "        \n",
    "        self.fc_layers = linear_stack(horizon, scale, width, activation=nn.ReLU(inplace=True), bias=True, layers=layers)\n",
    "        self.backcast = nn.Sequential(nn.Linear(width, theta_len, bias=False), \n",
    "                                     nn.Linear(theta_len, backcast_length, bias=True)\n",
    "                                     )\n",
    "        \n",
    "        self.forecast = nn.Sequential(nn.Linear(width, theta_len, bias=False), \n",
    "                                     nn.Linear(theta_len, horizon, bias=True)\n",
    "                                     )\n",
    "        \n",
    "    def forward(self, x):\n",
    "        x1 = self.fc_layers(x)\n",
    "        backcast = self.backcast(x1)\n",
    "        forecast = self.forecast(x1)\n",
    "        \n",
    "        return backcast, forecast"
   ]
  },
  {
   "cell_type": "code",
   "execution_count": 5,
   "metadata": {
    "colab": {},
    "colab_type": "code",
    "id": "_bP2G_pTLZgW"
   },
   "outputs": [],
   "source": [
    "class TrendBlock(nn.Module):\n",
    "    def __init__(self, horizon, scale, width, layers, p):\n",
    "        \"\"\"\n",
    "        The trend block as described on the paper. Outputs from this block should resemble a linear trend.\n",
    "    \n",
    "        Arguments:\n",
    "        horizon: The forecast period\n",
    "        scale: The scale parameter, this times horizon is the lookback period that serves as input to generate predictions\n",
    "        width: Number of nodes in each layer\n",
    "        layers: Number of layers \n",
    "        p: Desired polynomial degree. Typical is 2 to 3\n",
    "        \"\"\"\n",
    "        super().__init__()\n",
    "        \n",
    "        self.size = p+1\n",
    "        \n",
    "        backcast_length = horizon*scale\n",
    "        theta_len = 2*self.size\n",
    "        \n",
    "        self.trend_back = nn.Parameter(create_trend(backcast_length, p), requires_grad=False)\n",
    "        self.trend_forward = nn.Parameter(create_trend(horizon, p), requires_grad=False)\n",
    "        \n",
    "        self.fc_layers = linear_stack(horizon, scale, width, activation=nn.ReLU(inplace=True), bias=True, layers=layers)\n",
    "        self.basis = nn.Linear(width, theta_len, bias=False)\n",
    "                                     \n",
    "    def forward(self, x):\n",
    "        x1 = self.fc_layers(x)\n",
    "        theta = self.basis(x1)\n",
    "        backcast = torch.einsum('bp,pt->bt', theta[:, :self.size], self.trend_back)\n",
    "        forecast = torch.einsum('bp,pt->bt', theta[:, self.size:], self.trend_forward)\n",
    "\n",
    "        return backcast, forecast"
   ]
  },
  {
   "cell_type": "code",
   "execution_count": 6,
   "metadata": {
    "colab": {},
    "colab_type": "code",
    "id": "ju1VhCfaLbZ1"
   },
   "outputs": [],
   "source": [
    "class SeasonalBlock(nn.Module):\n",
    "    def __init__(self, horizon, scale, width, layers):\n",
    "        \"\"\"\n",
    "        The seasonal block as described on the paper. Outputs from this block should resemble a sinoid or cosine function.\n",
    "\n",
    "        Arguments:\n",
    "        horizon: The forecast period\n",
    "        scale: The scale parameter, this times horizon is the lookback period that serves as input to generate predictions\n",
    "        width: Number of nodes in each layer\n",
    "        layers: Number of layers \n",
    "        \"\"\"\n",
    "        super().__init__()\n",
    "\n",
    "        backcast_length = horizon*scale\n",
    "        theta_len = 4 * int(np.ceil(scale / 2 * horizon) - (scale - 1))\n",
    "\n",
    "        backcast_grid, forecast_grid = create_season(horizon, scale)\n",
    "\n",
    "        backcast_grid = torch.transpose(backcast_grid, 0, 1)\n",
    "        forecast_grid = torch.transpose(forecast_grid, 0, 1)\n",
    "\n",
    "        self.fc_layers = linear_stack(horizon, scale, width, activation=nn.ReLU(inplace=True), bias=True, layers=layers)\n",
    "        self.basis = nn.Linear(width, theta_len, bias=False)\n",
    "\n",
    "        self.cos_backcast = nn.Parameter(torch.cos(backcast_grid), requires_grad=False)\n",
    "        self.sin_backcast = nn.Parameter(torch.sin(backcast_grid), requires_grad=False)\n",
    "\n",
    "        self.cos_forecast = nn.Parameter(torch.cos(forecast_grid), requires_grad=False)\n",
    "        self.sin_forecast = nn.Parameter(torch.sin(forecast_grid), requires_grad=False)\n",
    "\n",
    "    def forward(self, x):        \n",
    "        x1 = self.fc_layers(x)\n",
    "        x1 = self.basis(x1)\n",
    "        \n",
    "        quarters = x1.shape[1]//4\n",
    "        \n",
    "        backcast_cos = torch.einsum('bp,pt->bt', x1[:, :quarters], self.cos_backcast)\n",
    "        backcast_sin = torch.einsum('bp,pt->bt', x1[:, quarters:2*quarters], self.sin_backcast)\n",
    "        backcast = backcast_cos + backcast_sin\n",
    "        \n",
    "        forecast_cos = torch.einsum('bp,pt->bt', x1[:, 2*quarters:3*quarters], self.cos_forecast)\n",
    "        forecast_sin = torch.einsum('bp,pt->bt', x1[:, 3*quarters:], self.sin_forecast)\n",
    "        forecast = forecast_cos + forecast_sin\n",
    "                \n",
    "        return backcast, forecast "
   ]
  },
  {
   "cell_type": "markdown",
   "metadata": {
    "colab_type": "text",
    "id": "symvT38QLd1R"
   },
   "source": [
    "### Stack\n",
    "\n",
    "Code to create a stack from a list of blocks. Might be redundant with the module that creates the network"
   ]
  },
  {
   "cell_type": "code",
   "execution_count": 7,
   "metadata": {
    "colab": {},
    "colab_type": "code",
    "id": "hIWdOBTDLde6"
   },
   "outputs": [],
   "source": [
    "class NStack(nn.Module):\n",
    "    def __init__(self, horizon, block, num_blocks, weight_sharing):\n",
    "        \"\"\"\n",
    "        Defines a stack which is a series of blocks which decompose the input data\n",
    "        \n",
    "        Arguments:\n",
    "        horizon: The forecast period\n",
    "        block: A list composed of the block objects\n",
    "        num_blocks: Number of blocks in each stack\n",
    "        weight_sharing: Should every block in the stack have the same weights?\n",
    "        \"\"\"\n",
    "        super().__init__()\n",
    "        \n",
    "        self.horizon = horizon\n",
    "        self.num_blocks = num_blocks\n",
    "        self.weight_sharing = weight_sharing\n",
    "        \n",
    "        if not self.weight_sharing:\n",
    "            block_list = [block]*self.num_blocks\n",
    "            self.blocks = nn.ModuleList(block_list)\n",
    "        else:\n",
    "            self.blocks = block\n",
    "        \n",
    "    def forward(self, x, batch_size):\n",
    "        forecasts = torch.empty((batch_size, self.num_blocks, self.horizon))\n",
    "        for bi in range(self.num_blocks):\n",
    "            if self.weight_sharing:\n",
    "                backcast, forecast = self.blocks(x)\n",
    "            else:\n",
    "                block = self.blocks[bi]\n",
    "                backcast, forecast = block(x)\n",
    "            x = x - backcast\n",
    "            forecasts[:, bi, :] = forecast\n",
    "        \n",
    "        return x, forecasts.sum(1)"
   ]
  },
  {
   "cell_type": "markdown",
   "metadata": {
    "colab_type": "text",
    "id": "fhQWJdqTLiS4"
   },
   "source": [
    "### Network\n",
    "\n",
    "Module to create the network architecture and some quick functions to implement the two types of n-beats described on the paper"
   ]
  },
  {
   "cell_type": "code",
   "execution_count": 8,
   "metadata": {
    "colab": {},
    "colab_type": "code",
    "id": "TeCy9peYLj7H"
   },
   "outputs": [],
   "source": [
    "class NBeats(nn.Module):\n",
    "    def __init__(self, horizon, block_list, num_blocks, weight_sharing):\n",
    "        \"\"\"\n",
    "        Defines the network architecture\n",
    "        \n",
    "        Arguments:\n",
    "        horizon: The forecast period\n",
    "        block: A list composed of the block objects\n",
    "        num_blocks: Number of blocks in each stack\n",
    "        weight_sharing: Should every block in the stack share have the same weights?\n",
    "        \"\"\"\n",
    "        super().__init__()\n",
    "        stacks_list = [NStack(horizon, block, num_blocks, weight_sharing) for block in block_list]\n",
    "        \n",
    "        self.horizon = horizon\n",
    "        self.num_stacks = len(block_list)\n",
    "        self.stacks = nn.ModuleList(stacks_list)\n",
    "        \n",
    "    def forward(self, x, batch_size):\n",
    "        forecasts = torch.empty((batch_size, self.num_stacks, self.horizon))\n",
    "        for s in range(len(self.stacks)):\n",
    "            stack = self.stacks[s]\n",
    "            backcast, forecast = stack(x, batch_size)\n",
    "            x = x - backcast\n",
    "            forecasts[:, s, :] = forecast\n",
    "        \n",
    "        if torch.cuda.is_available():\n",
    "            x, forecasts = x.cuda(), forecasts.cuda()\n",
    "        \n",
    "        return x, forecasts.sum(1)"
   ]
  },
  {
   "cell_type": "code",
   "execution_count": 9,
   "metadata": {
    "colab": {},
    "colab_type": "code",
    "id": "XqG1uYjdLnng"
   },
   "outputs": [],
   "source": [
    "def create_nbeats_g(horizon, scale, width, layers, theta_len, num_blocks, num_stacks):\n",
    "    \n",
    "    block_list = [GenericBlock(horizon, scale, width, layers, theta_len) for _ in range(num_stacks)]\n",
    "    \n",
    "    return NBeats(horizon, block_list, num_blocks, False)\n",
    "\n",
    "def create_nbeats_i(horizon, scale, t_width, t_layers, t_p, s_width, s_layers, num_blocks):\n",
    "    \n",
    "    block_list = [TrendBlock(horizon, scale, t_width, t_layers, t_p), SeasonalBlock(horizon, scale, s_width, s_layers)]\n",
    "    \n",
    "    return NBeats(horizon, block_list, num_blocks, True)"
   ]
  },
  {
   "cell_type": "markdown",
   "metadata": {
    "colab_type": "text",
    "id": "by_wGEw3LqzY"
   },
   "source": [
    "## Reading the data\n",
    "\n",
    "Getting the data as a pandas dataframe and replacing any missing value with a 0. It is not the smartest way, but it is simple enough for this example."
   ]
  },
  {
   "cell_type": "code",
   "execution_count": 10,
   "metadata": {
    "colab": {},
    "colab_type": "code",
    "id": "4mkA4mHhJ81Z"
   },
   "outputs": [],
   "source": [
    "train_data = pd.read_csv('/content/drive/My Drive/Colab Notebooks/data/train_1.csv.zip')\n",
    "\n",
    "train_data.fillna(value=0, inplace=True)"
   ]
  },
  {
   "cell_type": "code",
   "execution_count": 11,
   "metadata": {
    "colab": {},
    "colab_type": "code",
    "id": "MUTxuyNhJ81g"
   },
   "outputs": [],
   "source": [
    "n_samples = 100 # We will use only a 100 time series. It should be enough to assess the quality of the architecture in this kind of data\n",
    "\n",
    "sample_train = train_data.sample(n=n_samples, random_state=1)"
   ]
  },
  {
   "cell_type": "markdown",
   "metadata": {
    "colab_type": "text",
    "id": "oSfox2CPN4SG"
   },
   "source": [
    "## Model training\n",
    "\n",
    "We have about 500 observations for each time series, therefore, to estimate the quality of each model, we will do a k-fold cross validation.\n",
    "\n",
    "For the training loop, we will run a _n_ amount of batches instead of epochs, therefore, the _generate_batch_ function will take random points and create our Xs and Ys according to out lookback and forecast periods"
   ]
  },
  {
   "cell_type": "code",
   "execution_count": 12,
   "metadata": {
    "colab": {},
    "colab_type": "code",
    "id": "v-iX-cP5J81u"
   },
   "outputs": [],
   "source": [
    "def create_splits(array, k=3, h=60):\n",
    "    \"\"\"\n",
    "    Takes a numpy array, separates it into 'k' train/validation combinations based on the k*h last indexes of the array \n",
    "    array: Input data to split between train and validation\n",
    "    n: Number of splits\n",
    "    h: Size of forecast period\n",
    "    \"\"\"\n",
    "    \n",
    "    size = array.shape[0]\n",
    "    train = np.zeros((k, size-(h*k)))\n",
    "    validation = np.zeros((k, h))\n",
    "\n",
    "    for i in range(k):\n",
    "        train[i, :] = array[(h*i):size-(h*(k-i))]\n",
    "        validation[i, :] = array[size-(h*(k-i)):size-(h*(k-i-1))]\n",
    "    \n",
    "    return train, validation\n",
    "\n",
    "def generate_batch(data, h, scale, batch_size): \n",
    "    \n",
    "    n = data.shape[0]\n",
    "    \n",
    "    indexes = np.random.randint(low=h*scale, high=n-h, size=batch_size)\n",
    "    x = np.zeros((batch_size, h*scale))\n",
    "    y = np.zeros((batch_size, h))\n",
    "    \n",
    "    for i in range(batch_size):\n",
    "        x[i, :] = data[indexes[i]-(h*scale):indexes[i]]\n",
    "        y[i, :] = data[indexes[i]:indexes[i]+h]\n",
    "    \n",
    "    return x, y"
   ]
  },
  {
   "cell_type": "markdown",
   "metadata": {},
   "source": [
    "Basic training loop and defining some useful losses"
   ]
  },
  {
   "cell_type": "code",
   "execution_count": 13,
   "metadata": {
    "colab": {},
    "colab_type": "code",
    "id": "94U3RIzSN50i"
   },
   "outputs": [],
   "source": [
    "def train_loop(model, train, validation, optimizer, batch_size, n_batches, record_every=25, print_loss=True):\n",
    "    if on_gpu:\n",
    "        model.cuda()\n",
    "        validation = torch.from_numpy(validation).float().cuda().view((1, -1))\n",
    "        validation_x = torch.from_numpy(train[-h*scale:].reshape((1, -1))).float().cuda()\n",
    "\n",
    "    counter = 0\n",
    "\n",
    "    train_losses = []\n",
    "    val_losses = []\n",
    "\n",
    "    for i in range(n_batches):\n",
    "        counter += 1\n",
    "        model.train()\n",
    "        model.zero_grad()\n",
    "        \n",
    "        x, y = generate_batch(data=train, h=h, scale=scale, batch_size=batch_size)\n",
    "        x, y = torch.from_numpy(x).float(), torch.from_numpy(y).float()\n",
    "        if on_gpu:\n",
    "            x, y = x.cuda(), y.cuda()\n",
    "        \n",
    "        backcasts, forecasts = model(x, batch_size)\n",
    "        \n",
    "        loss = criterion(forecasts, y)\n",
    "        loss.backward()\n",
    "        optimizer.step()\n",
    "        \n",
    "        if counter % record_every == 0:\n",
    "            with torch.no_grad():\n",
    "                model.eval()\n",
    "                val_backcasts, val_forecasts = model(validation_x, 1)\n",
    "                val_loss = criterion(val_forecasts, validation)\n",
    "                \n",
    "                train_losses.append(loss.item())\n",
    "                val_losses.append(val_loss.item())\n",
    "            \n",
    "            if print_loss:\n",
    "                print(f'Batch: {i+1}/{n_batches}', f'Train loss: {loss:.4f}', f'Validation loss: {val_loss:.4f}')\n",
    "    \n",
    "    return train_losses, val_losses"
   ]
  },
  {
   "cell_type": "code",
   "execution_count": 14,
   "metadata": {
    "colab": {},
    "colab_type": "code",
    "id": "XNZYyj4JSluS"
   },
   "outputs": [],
   "source": [
    "def mape_loss(output, target):\n",
    "    mape = torch.mean(torch.abs(output - target)/target)\n",
    "    \n",
    "    return mape\n",
    "\n",
    "def smape_loss(output, target):\n",
    "    numerator = torch.abs(output - target)\n",
    "    denominator = ((torch.abs(output) + torch.abs(target)) / 2)\n",
    "    smape = torch.mean(numerator/denominator)\n",
    "\n",
    "    return smape"
   ]
  },
  {
   "cell_type": "markdown",
   "metadata": {},
   "source": [
    "We loop through all the arrays fitting a specific model for each and at the end saving the train and validation losses"
   ]
  },
  {
   "cell_type": "code",
   "execution_count": 16,
   "metadata": {
    "colab": {},
    "colab_type": "code",
    "id": "3hGUWR-S1xJH"
   },
   "outputs": [],
   "source": [
    "training_array = sample_train.iloc[:, 1:].to_numpy()"
   ]
  },
  {
   "cell_type": "code",
   "execution_count": 17,
   "metadata": {
    "colab": {
     "base_uri": "https://localhost:8080/",
     "height": 1000
    },
    "colab_type": "code",
    "id": "9B5WYVOoJ81y",
    "outputId": "4f079658-1a03-46ab-c70d-6c3c047d0269"
   },
   "outputs": [
    {
     "name": "stdout",
     "output_type": "stream",
     "text": [
      "------ STARTING ARRAY: 0 ------\n",
      "------ STARTING ARRAY: 1 ------\n",
      "------ STARTING ARRAY: 2 ------\n",
      "------ STARTING ARRAY: 3 ------\n",
      "------ STARTING ARRAY: 4 ------\n",
      "------ STARTING ARRAY: 5 ------\n",
      "------ STARTING ARRAY: 6 ------\n",
      "------ STARTING ARRAY: 7 ------\n",
      "------ STARTING ARRAY: 8 ------\n",
      "------ STARTING ARRAY: 9 ------\n",
      "------ STARTING ARRAY: 10 ------\n",
      "------ STARTING ARRAY: 11 ------\n",
      "------ STARTING ARRAY: 12 ------\n",
      "------ STARTING ARRAY: 13 ------\n",
      "------ STARTING ARRAY: 14 ------\n",
      "------ STARTING ARRAY: 15 ------\n",
      "------ STARTING ARRAY: 16 ------\n",
      "------ STARTING ARRAY: 17 ------\n",
      "------ STARTING ARRAY: 18 ------\n",
      "------ STARTING ARRAY: 19 ------\n",
      "------ STARTING ARRAY: 20 ------\n",
      "------ STARTING ARRAY: 21 ------\n",
      "------ STARTING ARRAY: 22 ------\n",
      "------ STARTING ARRAY: 23 ------\n",
      "------ STARTING ARRAY: 24 ------\n",
      "------ STARTING ARRAY: 25 ------\n",
      "------ STARTING ARRAY: 26 ------\n",
      "------ STARTING ARRAY: 27 ------\n",
      "------ STARTING ARRAY: 28 ------\n",
      "------ STARTING ARRAY: 29 ------\n",
      "------ STARTING ARRAY: 30 ------\n",
      "------ STARTING ARRAY: 31 ------\n",
      "------ STARTING ARRAY: 32 ------\n",
      "------ STARTING ARRAY: 33 ------\n",
      "------ STARTING ARRAY: 34 ------\n",
      "------ STARTING ARRAY: 35 ------\n",
      "------ STARTING ARRAY: 36 ------\n",
      "------ STARTING ARRAY: 37 ------\n",
      "------ STARTING ARRAY: 38 ------\n",
      "------ STARTING ARRAY: 39 ------\n",
      "------ STARTING ARRAY: 40 ------\n",
      "------ STARTING ARRAY: 41 ------\n",
      "------ STARTING ARRAY: 42 ------\n",
      "------ STARTING ARRAY: 43 ------\n",
      "------ STARTING ARRAY: 44 ------\n",
      "------ STARTING ARRAY: 45 ------\n",
      "------ STARTING ARRAY: 46 ------\n",
      "------ STARTING ARRAY: 47 ------\n",
      "------ STARTING ARRAY: 48 ------\n",
      "------ STARTING ARRAY: 49 ------\n",
      "------ STARTING ARRAY: 50 ------\n",
      "------ STARTING ARRAY: 51 ------\n",
      "------ STARTING ARRAY: 52 ------\n",
      "------ STARTING ARRAY: 53 ------\n",
      "------ STARTING ARRAY: 54 ------\n",
      "------ STARTING ARRAY: 55 ------\n",
      "------ STARTING ARRAY: 56 ------\n",
      "------ STARTING ARRAY: 57 ------\n",
      "------ STARTING ARRAY: 58 ------\n",
      "------ STARTING ARRAY: 59 ------\n",
      "------ STARTING ARRAY: 60 ------\n",
      "------ STARTING ARRAY: 61 ------\n",
      "------ STARTING ARRAY: 62 ------\n",
      "------ STARTING ARRAY: 63 ------\n",
      "------ STARTING ARRAY: 64 ------\n",
      "------ STARTING ARRAY: 65 ------\n",
      "------ STARTING ARRAY: 66 ------\n",
      "------ STARTING ARRAY: 67 ------\n",
      "------ STARTING ARRAY: 68 ------\n",
      "------ STARTING ARRAY: 69 ------\n",
      "------ STARTING ARRAY: 70 ------\n",
      "------ STARTING ARRAY: 71 ------\n",
      "------ STARTING ARRAY: 72 ------\n",
      "------ STARTING ARRAY: 73 ------\n",
      "------ STARTING ARRAY: 74 ------\n",
      "------ STARTING ARRAY: 75 ------\n",
      "------ STARTING ARRAY: 76 ------\n",
      "------ STARTING ARRAY: 77 ------\n",
      "------ STARTING ARRAY: 78 ------\n",
      "------ STARTING ARRAY: 79 ------\n",
      "------ STARTING ARRAY: 80 ------\n",
      "------ STARTING ARRAY: 81 ------\n",
      "------ STARTING ARRAY: 82 ------\n",
      "------ STARTING ARRAY: 83 ------\n",
      "------ STARTING ARRAY: 84 ------\n",
      "------ STARTING ARRAY: 85 ------\n",
      "------ STARTING ARRAY: 86 ------\n",
      "------ STARTING ARRAY: 87 ------\n",
      "------ STARTING ARRAY: 88 ------\n",
      "------ STARTING ARRAY: 89 ------\n",
      "------ STARTING ARRAY: 90 ------\n",
      "------ STARTING ARRAY: 91 ------\n",
      "------ STARTING ARRAY: 92 ------\n",
      "------ STARTING ARRAY: 93 ------\n",
      "------ STARTING ARRAY: 94 ------\n",
      "------ STARTING ARRAY: 95 ------\n",
      "------ STARTING ARRAY: 96 ------\n",
      "------ STARTING ARRAY: 97 ------\n",
      "------ STARTING ARRAY: 98 ------\n",
      "------ STARTING ARRAY: 99 ------\n",
      "CPU times: user 1h 22min 54s, sys: 38.7 s, total: 1h 23min 33s\n",
      "Wall time: 1h 19min 54s\n"
     ]
    }
   ],
   "source": [
    "%%time\n",
    "\n",
    "# Create training loop for validation with all the sampled ts\n",
    "\n",
    "states_dict = {}\n",
    "h = 60\n",
    "scale = 2\n",
    "k = 3\n",
    "\n",
    "\n",
    "on_gpu = torch.cuda.is_available()\n",
    "# criterion = nn.L1Loss()\n",
    "criterion = smape_loss\n",
    "\n",
    "for index in range(n_samples):\n",
    "    print(f'------ STARTING ARRAY: {index} ------')\n",
    "    states_dict[index] = {'train_loss': [], 'validation_loss': []}\n",
    "    splits = create_splits(training_array[index, :])\n",
    "    for cv_index in range(3):\n",
    "        #print(f'------ STARTING SPLIT: {cv_index} ------')\n",
    "        train_cv = splits[0][cv_index]\n",
    "        validation_cv = splits[1][cv_index]\n",
    "        generic_model = create_nbeats_g(h, scale, 512, 4, 64, 1, 30)\n",
    "        optimizer = optim.Adam(generic_model.parameters())\n",
    "\n",
    "        train_loss, val_loss = train_loop(model=generic_model, train=train_cv, validation=validation_cv, optimizer=optimizer, batch_size=32, n_batches=200, record_every=25, print_loss=False)\n",
    "        states_dict[index]['train_loss'].append(train_loss)\n",
    "        states_dict[index]['validation_loss'].append(val_loss)\n",
    "    \n",
    "    states_dict[index]['train_loss'], states_dict[index]['validation_loss'] = np.array(states_dict[index]['train_loss']), np.array(states_dict[index]['validation_loss'])"
   ]
  },
  {
   "cell_type": "markdown",
   "metadata": {},
   "source": [
    "At the end, we plot the k-fold validation loss with the averages. The model seems quite unstable and not very good. This might be because we overfit or the data is very erratic.\n",
    "\n",
    "Some possible next steps would be:\n",
    "* Try some regularization, specially dropout, to apply some constraints to the model\n",
    "* Maybe one model for all the series could perform well, but that would require some changes to how we generate the batches"
   ]
  },
  {
   "cell_type": "code",
   "execution_count": 18,
   "metadata": {
    "colab": {},
    "colab_type": "code",
    "id": "MB3Lmt98Ydm6"
   },
   "outputs": [],
   "source": [
    "last_batch_train_loss = np.zeros((n_samples, k))\n",
    "last_batch_validation_loss = np.zeros((n_samples, k))\n",
    "\n",
    "for index in range(n_samples):\n",
    "    last_batch_train_loss[index, :] = states_dict[index]['train_loss'][:, -1]\n",
    "    last_batch_validation_loss[index, :] = states_dict[index]['validation_loss'][:, -1]\n"
   ]
  },
  {
   "cell_type": "code",
   "execution_count": 38,
   "metadata": {
    "colab": {
     "base_uri": "https://localhost:8080/",
     "height": 483
    },
    "colab_type": "code",
    "id": "n47-kevbYbYH",
    "outputId": "f8769c3e-715f-4b1a-8afe-3a0e3b424505"
   },
   "outputs": [
    {
     "data": {
      "image/png": "[encoded data removed]",
      "text/plain": [
       "<Figure size 576x576 with 1 Axes>"
      ]
     },
     "metadata": {
      "needs_background": "light",
      "tags": []
     },
     "output_type": "display_data"
    }
   ],
   "source": [
    "fig, ax = plt.subplots()\n",
    "\n",
    "\n",
    "train_mean, validation_mean = np.mean(last_batch_train_loss, axis=1), np.mean(last_batch_validation_loss, axis=1)\n",
    "x = range(n_samples)\n",
    "\n",
    "ax.errorbar(x=x, y=validation_mean, yerr=np.array([np.min(last_batch_validation_loss, axis=1), np.max(last_batch_validation_loss, axis=1)]), \n",
    "            label='validation range', color='red', alpha=0.5)\n",
    "ax.scatter(x=x, y=train_mean, label='train average',  color='blue', marker='D')\n",
    "ax.scatter(x=x, y=validation_mean, label='validation average', color='red', marker='D')\n",
    "ax.legend()\n",
    "\n",
    "\n",
    "fig.show()"
   ]
  },
  {
   "cell_type": "markdown",
   "metadata": {},
   "source": [
    "Lastly, simply to confirm, our validation smape is about 84%, on average. The leading competition winner had a smape equal to 35.48%, approximately.\n",
    "\n",
    "So, yeah, currently the model is quite bad"
   ]
  },
  {
   "cell_type": "code",
   "execution_count": null,
   "metadata": {
    "colab": {
     "base_uri": "https://localhost:8080/",
     "height": 35
    },
    "colab_type": "code",
    "id": "NwxjXlULI3Ii",
    "outputId": "9d67b7a8-a7d6-481c-9095-aa75a7fcb9fa"
   },
   "outputs": [
    {
     "data": {
      "text/plain": [
       "0.6231086341540019"
      ]
     },
     "execution_count": 32,
     "metadata": {
      "tags": []
     },
     "output_type": "execute_result"
    }
   ],
   "source": [
    "last_batch_train_loss.mean()"
   ]
  },
  {
   "cell_type": "code",
   "execution_count": null,
   "metadata": {
    "colab": {
     "base_uri": "https://localhost:8080/",
     "height": 35
    },
    "colab_type": "code",
    "id": "HW4CaLlVJEjj",
    "outputId": "673659dd-3bc8-43ab-fcab-b3096a2539a0"
   },
   "outputs": [
    {
     "data": {
      "text/plain": [
       "0.8401647633810839"
      ]
     },
     "execution_count": 34,
     "metadata": {
      "tags": []
     },
     "output_type": "execute_result"
    }
   ],
   "source": [
    "last_batch_validation_loss.mean()"
   ]
  }
 ],
 "metadata": {
  "accelerator": "GPU",
  "colab": {
   "collapsed_sections": [],
   "name": "web_traffic_forecasting.ipynb",
   "provenance": []
  },
  "kernelspec": {
   "display_name": "Python 3",
   "language": "python",
   "name": "python3"
  },
  "language_info": {
   "codemirror_mode": {
    "name": "ipython",
    "version": 3
   },
   "file_extension": ".py",
   "mimetype": "text/x-python",
   "name": "python",
   "nbconvert_exporter": "python",
   "pygments_lexer": "ipython3",
   "version": "3.7.3"
  }
 },
 "nbformat": 4,
 "nbformat_minor": 4
}
